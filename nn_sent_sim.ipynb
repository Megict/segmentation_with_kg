{
 "cells": [
  {
   "cell_type": "code",
   "execution_count": 14,
   "id": "dec9f354",
   "metadata": {},
   "outputs": [],
   "source": [
    "from tqdm import tqdm\n",
    "import networkx as nx\n",
    "from copy import deepcopy as cp\n",
    "import os\n",
    "import io\n",
    "import numpy as np\n",
    "import json"
   ]
  },
  {
   "cell_type": "code",
   "execution_count": 5,
   "id": "fa780637",
   "metadata": {},
   "outputs": [
    {
     "name": "stderr",
     "output_type": "stream",
     "text": [
      "c:\\Users\\User\\AppData\\Local\\Programs\\Python\\Python312\\Lib\\site-packages\\tqdm\\auto.py:21: TqdmWarning: IProgress not found. Please update jupyter and ipywidgets. See https://ipywidgets.readthedocs.io/en/stable/user_install.html\n",
      "  from .autonotebook import tqdm as notebook_tqdm\n",
      "2024-10-16 13:42:33 INFO: Checking for updates to resources.json in case models have been updated.  Note: this behavior can be turned off with download_method=None or download_method=DownloadMethod.REUSE_RESOURCES\n",
      "Downloading https://raw.githubusercontent.com/stanfordnlp/stanza-resources/main/resources_1.8.0.json: 386kB [00:00, 5.95MB/s]                    \n",
      "2024-10-16 13:42:33 INFO: Downloaded file to C:\\Users\\User\\stanza_resources\\resources.json\n",
      "2024-10-16 13:42:34 INFO: Loading these models for language: ru (Russian):\n",
      "==================================\n",
      "| Processor | Package            |\n",
      "----------------------------------\n",
      "| tokenize  | syntagrus          |\n",
      "| lemma     | syntagrus_nocharlm |\n",
      "==================================\n",
      "\n",
      "2024-10-16 13:42:34 INFO: Using device: cpu\n",
      "2024-10-16 13:42:34 INFO: Loading: tokenize\n",
      "c:\\Users\\User\\AppData\\Local\\Programs\\Python\\Python312\\Lib\\site-packages\\stanza\\models\\tokenization\\trainer.py:82: FutureWarning: You are using `torch.load` with `weights_only=False` (the current default value), which uses the default pickle module implicitly. It is possible to construct malicious pickle data which will execute arbitrary code during unpickling (See https://github.com/pytorch/pytorch/blob/main/SECURITY.md#untrusted-models for more details). In a future release, the default value for `weights_only` will be flipped to `True`. This limits the functions that could be executed during unpickling. Arbitrary objects will no longer be allowed to be loaded via this mode unless they are explicitly allowlisted by the user via `torch.serialization.add_safe_globals`. We recommend you start setting `weights_only=True` for any use case where you don't have full control of the loaded file. Please open an issue on GitHub for any issues related to this experimental feature.\n",
      "  checkpoint = torch.load(filename, lambda storage, loc: storage)\n",
      "2024-10-16 13:42:35 INFO: Loading: lemma\n",
      "c:\\Users\\User\\AppData\\Local\\Programs\\Python\\Python312\\Lib\\site-packages\\stanza\\models\\lemma\\trainer.py:236: FutureWarning: You are using `torch.load` with `weights_only=False` (the current default value), which uses the default pickle module implicitly. It is possible to construct malicious pickle data which will execute arbitrary code during unpickling (See https://github.com/pytorch/pytorch/blob/main/SECURITY.md#untrusted-models for more details). In a future release, the default value for `weights_only` will be flipped to `True`. This limits the functions that could be executed during unpickling. Arbitrary objects will no longer be allowed to be loaded via this mode unless they are explicitly allowlisted by the user via `torch.serialization.add_safe_globals`. We recommend you start setting `weights_only=True` for any use case where you don't have full control of the loaded file. Please open an issue on GitHub for any issues related to this experimental feature.\n",
      "  checkpoint = torch.load(filename, lambda storage, loc: storage)\n",
      "2024-10-16 13:42:35 INFO: Done loading processors!\n"
     ]
    }
   ],
   "source": [
    "import stanza\n",
    "parser = stanza.Pipeline(lang='ru', processors='tokenize,lemma')\n",
    "def load_testing_sample(fname, normalize = True):\n",
    "    with io.open(fname, \"r\", encoding='utf-8') as f:\n",
    "        text_ = f.read()\n",
    "    sentences = text_.split(\"\\n\")\n",
    "\n",
    "    sentences_without_breaks = []\n",
    "    true_segment_breaks = []\n",
    "    prev_sent = None\n",
    "    for sent in sentences:\n",
    "        if sent.strip() != \"\":\n",
    "            if sent != \"--- SEGMENT BRAKE ---\":\n",
    "                if normalize:\n",
    "                    sent_norm_text = \"\"\n",
    "                    try:\n",
    "                        doc = parser(sent).sentences[0]\n",
    "                        for elm in doc.words:\n",
    "                            sent_norm_text += elm.lemma + ' '\n",
    "                    except IndexError as err:# это встретилось пустое предложение\n",
    "                        raise err\n",
    "                else:\n",
    "                    sent_norm_text = sent\n",
    "                sentences_without_breaks.append(sent_norm_text)\n",
    "        \n",
    "                if prev_sent is not None:\n",
    "                    if prev_sent == \"--- SEGMENT BRAKE ---\":\n",
    "                        true_segment_breaks.append(True)\n",
    "                    else:\n",
    "                        true_segment_breaks.append(False)\n",
    "            prev_sent = sent\n",
    "    true_segment_breaks = np.array(true_segment_breaks)\n",
    "    return true_segment_breaks, sentences_without_breaks"
   ]
  },
  {
   "cell_type": "code",
   "execution_count": 11,
   "id": "927698af",
   "metadata": {},
   "outputs": [
    {
     "name": "stderr",
     "output_type": "stream",
     "text": [
      "100%|██████████| 64/64 [01:04<00:00,  1.00s/it]\n"
     ]
    }
   ],
   "source": [
    "texts_directory = \"segmentation_dataset\"\n",
    "\n",
    "all_true_breaks = []\n",
    "all_sentences_without_breaks = []\n",
    "for fname in tqdm(os.listdir(texts_directory)):\n",
    "    path = texts_directory + \"/\" + fname\n",
    "    true_breaks, sentences_without_breaks = load_testing_sample(path, normalize = True)\n",
    "    all_true_breaks.append(true_breaks)\n",
    "    all_sentences_without_breaks.append(sentences_without_breaks)"
   ]
  },
  {
   "cell_type": "code",
   "execution_count": 17,
   "id": "b003f091",
   "metadata": {},
   "outputs": [],
   "source": [
    "with open(\"classificator.json\",'r') as f:\n",
    "    classificator = json.load(f)"
   ]
  },
  {
   "cell_type": "code",
   "execution_count": 20,
   "id": "8704f65b",
   "metadata": {},
   "outputs": [],
   "source": [
    "from navec import Navec\n",
    "path = 'navec_hudlit_v1_12B_500K_300d_100q.tar'\n",
    "navec = Navec.load(path)"
   ]
  },
  {
   "cell_type": "code",
   "execution_count": 30,
   "id": "e63d24c0",
   "metadata": {},
   "outputs": [],
   "source": [
    "v1 = navec['кот'].reshape(1, -1)\n",
    "v2 = navec['кто'].reshape(1, -1)"
   ]
  },
  {
   "cell_type": "code",
   "execution_count": 26,
   "id": "1bb936de",
   "metadata": {},
   "outputs": [],
   "source": [
    "from sklearn.metrics.pairwise import cosine_similarity"
   ]
  },
  {
   "cell_type": "code",
   "execution_count": 33,
   "id": "3cd48fdb",
   "metadata": {},
   "outputs": [
    {
     "data": {
      "text/plain": [
       "0.22033857"
      ]
     },
     "execution_count": 33,
     "metadata": {},
     "output_type": "execute_result"
    }
   ],
   "source": [
    "cosine_similarity(v1, v2)[0][0]"
   ]
  },
  {
   "cell_type": "code",
   "execution_count": 60,
   "id": "8da7f2b9",
   "metadata": {},
   "outputs": [],
   "source": [
    "def word_sim(w1, w2):\n",
    "    v1 = navec[w1].reshape(1, -1)\n",
    "    v2 = navec[w2].reshape(1, -1)\n",
    "    return cosine_similarity(v1, v2)[0][0]"
   ]
  },
  {
   "cell_type": "code",
   "execution_count": null,
   "id": "0498d4fb",
   "metadata": {},
   "outputs": [],
   "source": [
    "def sent_sim(s1, s2): \n",
    "    "
   ]
  },
  {
   "cell_type": "code",
   "execution_count": null,
   "id": "c98f1e73",
   "metadata": {},
   "outputs": [],
   "source": []
  },
  {
   "cell_type": "code",
   "execution_count": null,
   "id": "e7aadf3b",
   "metadata": {},
   "outputs": [],
   "source": []
  },
  {
   "cell_type": "code",
   "execution_count": null,
   "id": "3c843142",
   "metadata": {},
   "outputs": [],
   "source": []
  },
  {
   "cell_type": "code",
   "execution_count": null,
   "id": "970eaa3c",
   "metadata": {},
   "outputs": [],
   "source": []
  },
  {
   "cell_type": "code",
   "execution_count": null,
   "id": "2844c5dc",
   "metadata": {},
   "outputs": [],
   "source": []
  },
  {
   "cell_type": "code",
   "execution_count": null,
   "id": "979f4c8b",
   "metadata": {},
   "outputs": [],
   "source": []
  }
 ],
 "metadata": {
  "kernelspec": {
   "display_name": "Python 3 (ipykernel)",
   "language": "python",
   "name": "python3"
  },
  "language_info": {
   "codemirror_mode": {
    "name": "ipython",
    "version": 3
   },
   "file_extension": ".py",
   "mimetype": "text/x-python",
   "name": "python",
   "nbconvert_exporter": "python",
   "pygments_lexer": "ipython3",
   "version": "3.12.4"
  }
 },
 "nbformat": 4,
 "nbformat_minor": 5
}
