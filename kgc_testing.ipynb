{
 "cells": [
  {
   "cell_type": "code",
   "execution_count": 1,
   "metadata": {
    "scrolled": true
   },
   "outputs": [],
   "source": [
    "from graph_analyser import GraphAnalyser\n",
    "from graph_analyser import GranGapEstimater\n",
    "from graph_analyser import GranLinker\n",
    "from graph_structure import KnowledgeGraph\n",
    "from graph_builder import GraphBuilder"
   ]
  },
  {
   "cell_type": "code",
   "execution_count": 2,
   "metadata": {},
   "outputs": [],
   "source": [
    "import networkx as nx"
   ]
  },
  {
   "cell_type": "code",
   "execution_count": 3,
   "metadata": {},
   "outputs": [
    {
     "name": "stderr",
     "output_type": "stream",
     "text": [
      "2024-06-26 14:17:14 INFO: Checking for updates to resources.json in case models have been updated.  Note: this behavior can be turned off with download_method=None or download_method=DownloadMethod.REUSE_RESOURCES\n",
      "Widget Javascript not detected.  It may not be installed or enabled properly. Reconnecting the current kernel may help.\n"
     ]
    },
    {
     "data": {
      "application/vnd.jupyter.widget-view+json": {
       "model_id": "c98784c36fe8458986a26d0bb8eb8a1c"
      }
     },
     "metadata": {},
     "output_type": "display_data"
    },
    {
     "name": "stdout",
     "output_type": "stream",
     "text": [
      "\n"
     ]
    },
    {
     "name": "stderr",
     "output_type": "stream",
     "text": [
      "2024-06-26 14:17:17 INFO: Loading these models for language: ru (Russian):\n",
      "==================================\n",
      "| Processor | Package            |\n",
      "----------------------------------\n",
      "| tokenize  | syntagrus          |\n",
      "| pos       | syntagrus_charlm   |\n",
      "| lemma     | syntagrus_nocharlm |\n",
      "| depparse  | syntagrus_charlm   |\n",
      "| ner       | wikiner            |\n",
      "==================================\n",
      "\n",
      "2024-06-26 14:17:17 INFO: Using device: cpu\n",
      "2024-06-26 14:17:17 INFO: Loading: tokenize\n",
      "2024-06-26 14:17:17 INFO: Loading: pos\n",
      "2024-06-26 14:17:18 INFO: Loading: lemma\n",
      "2024-06-26 14:17:18 INFO: Loading: depparse\n",
      "2024-06-26 14:17:18 INFO: Loading: ner\n",
      "2024-06-26 14:17:22 INFO: Done loading processors!\n"
     ]
    }
   ],
   "source": [
    "builder = GraphBuilder()"
   ]
  },
  {
   "cell_type": "code",
   "execution_count": 4,
   "metadata": {},
   "outputs": [],
   "source": [
    "sentence = \"Разобьем линейный участок газопровода узлами сеточной аппроксимации на конечные элементы длины\""
   ]
  },
  {
   "cell_type": "code",
   "execution_count": 5,
   "metadata": {},
   "outputs": [
    {
     "name": "stdout",
     "output_type": "stream",
     "text": [
      "--------------------------------------------------------------------------------\n",
      "разбить             root                VERB                длины\n",
      "линейный            amod                ADJ                 участок\n",
      "участок             obj                 NOUN                Разобьем\n",
      "--------------------------------------------------------------------------------\n",
      "газопровод          nmod                NOUN                участок\n",
      "узел                obl                 NOUN                Разобьем\n",
      "сеточный            amod                ADJ                 аппроксимации\n",
      "--------------------------------------------------------------------------------\n",
      "аппроксимация       nmod                NOUN                узлами\n",
      "на                  case                ADP                 элементы\n",
      "конечный            amod                ADJ                 элементы\n",
      "--------------------------------------------------------------------------------\n",
      "элемент             obl                 NOUN                Разобьем\n",
      "длина               nmod                NOUN                элементы\n",
      "--------------------------------------------------------------------------------\n",
      "('линейный', 'участок')\n",
      "('участок', 'разбить')\n",
      "('газопровод', 'участок')\n",
      "('узел', 'разбить')\n",
      "('сеточный', 'аппроксимация')\n",
      "('аппроксимация', 'узел')\n",
      "('конечный', 'элемент')\n",
      "('элемент', 'разбить')\n",
      "('длина', 'элемент')\n"
     ]
    }
   ],
   "source": [
    "Graph_1 = builder.create_syntax_graph_for_sentence(sentence)"
   ]
  },
  {
   "cell_type": "code",
   "execution_count": 6,
   "metadata": {},
   "outputs": [],
   "source": [
    "Graph_2 = builder.extract_noun_phrases(sentence)"
   ]
  },
  {
   "cell_type": "code",
   "execution_count": 17,
   "metadata": {},
   "outputs": [],
   "source": [
    "Graph_1_1 = nx.DiGraph()\n",
    "Graph_1_1.add_nodes_from(Graph_1.nodes)\n",
    "Graph_1_1.add_edges_from(Graph_1.edges)"
   ]
  },
  {
   "cell_type": "code",
   "execution_count": 19,
   "metadata": {},
   "outputs": [
    {
     "data": {
      "image/png": "[encoded data removed]",
      "text/plain": [
       "<Figure size 432x288 with 1 Axes>"
      ]
     },
     "metadata": {},
     "output_type": "display_data"
    }
   ],
   "source": [
    "nx.draw(Graph_1_1,with_labels = True)"
   ]
  },
  {
   "cell_type": "code",
   "execution_count": 11,
   "metadata": {},
   "outputs": [
    {
     "name": "stdout",
     "output_type": "stream",
     "text": [
      "линейный {'locations': [{'t': '', 'p': 13.0}], 'color': 'white'}\n",
      "участок {'locations': [{'t': '', 'p': 21.5}, {'t': '', 'p': 21.5}, {'t': '', 'p': 21.5}], 'color': 'black'}\n",
      "разбить {'locations': [{'t': '', 'p': 4.0}, {'t': '', 'p': 4.0}, {'t': '', 'p': 4.0}], 'color': 'black'}\n",
      "газопровод {'locations': [{'t': '', 'p': 31.5}], 'color': 'white'}\n",
      "узел {'locations': [{'t': '', 'p': 41.0}, {'t': '', 'p': 41.0}], 'color': 'black'}\n",
      "сеточный {'locations': [{'t': '', 'p': 49.0}], 'color': 'white'}\n",
      "аппроксимация {'locations': [{'t': '', 'p': 60.5}, {'t': '', 'p': 60.5}], 'color': 'white'}\n",
      "конечный {'locations': [{'t': '', 'p': 75.0}], 'color': 'white'}\n",
      "элемент {'locations': [{'t': '', 'p': 84.0}, {'t': '', 'p': 84.0}, {'t': '', 'p': 84.0}], 'color': 'black'}\n",
      "длина {'locations': [{'t': '', 'p': 91.5}], 'color': 'white'}\n"
     ]
    }
   ],
   "source": [
    "for e in Graph_1.nodes():\n",
    "    print(e, Graph_1.nodes[e])"
   ]
  },
  {
   "cell_type": "code",
   "execution_count": 12,
   "metadata": {},
   "outputs": [
    {
     "name": "stdout",
     "output_type": "stream",
     "text": [
      "('линейный', 'участок') {'label': [1, ' '], 'locations': [{'t': '', 'p': 17.25}]}\n",
      "('участок', 'разбить') {'label': [1, ' '], 'locations': [{'t': '', 'p': 12.75}]}\n",
      "('участок', 'газопровод') {'label': [1, ' '], 'locations': [{'t': '', 'p': 26.5}]}\n",
      "('разбить', 'узел') {'label': [1, ' '], 'locations': [{'t': '', 'p': 22.5}]}\n",
      "('разбить', 'элемент') {'label': [1, ' '], 'locations': [{'t': '', 'p': 44.0}]}\n",
      "('узел', 'аппроксимация') {'label': [1, ' '], 'locations': [{'t': '', 'p': 50.75}]}\n",
      "('сеточный', 'аппроксимация') {'label': [1, ' '], 'locations': [{'t': '', 'p': 54.75}]}\n",
      "('конечный', 'элемент') {'label': [1, ' '], 'locations': [{'t': '', 'p': 79.5}]}\n",
      "('элемент', 'длина') {'label': [1, ' '], 'locations': [{'t': '', 'p': 87.75}]}\n"
     ]
    }
   ],
   "source": [
    "for e in Graph_1.edges():\n",
    "    print(e, Graph_1.edges[e])"
   ]
  },
  {
   "cell_type": "code",
   "execution_count": 8,
   "metadata": {},
   "outputs": [
    {
     "data": {
      "image/png": "[encoded data removed]",
      "text/plain": [
       "<Figure size 432x288 with 1 Axes>"
      ]
     },
     "metadata": {},
     "output_type": "display_data"
    }
   ],
   "source": [
    "nx.draw(Graph_2, with_labels = True)"
   ]
  },
  {
   "cell_type": "code",
   "execution_count": 9,
   "metadata": {},
   "outputs": [
    {
     "name": "stdout",
     "output_type": "stream",
     "text": [
      "длина {'color': 'red', 'locations': [1]}\n",
      "линейный {'color': 'orange', 'locations': [1]}\n",
      "участок {'color': 'red', 'locations': [1]}\n",
      "газопровод {'color': 'red', 'locations': [1]}\n",
      "узел {'color': 'red', 'locations': [1]}\n",
      "сеточный {'color': 'orange', 'locations': [1]}\n",
      "аппроксимация {'color': 'red', 'locations': [1]}\n",
      "на {'color': 'orange', 'locations': [1]}\n",
      "элемент {'color': 'red', 'locations': [1]}\n",
      "конечный {'color': 'orange', 'locations': [1]}\n"
     ]
    }
   ],
   "source": [
    "for e in Graph_2.nodes():\n",
    "    print(e, Graph_2.nodes[e])"
   ]
  },
  {
   "cell_type": "code",
   "execution_count": 10,
   "metadata": {},
   "outputs": [
    {
     "name": "stdout",
     "output_type": "stream",
     "text": [
      "('длина', 'элемент') {'label': 'verb link', 'locations': [1]}\n",
      "('длина', 'участок') {'label': 'verb link', 'locations': [1]}\n",
      "('длина', 'узел') {'label': 'verb link', 'locations': [1]}\n",
      "('линейный', 'участок') {'label': 'p link', 'locations': [1]}\n",
      "('участок', 'газопровод') {'label': 'sub link', 'locations': [1]}\n",
      "('участок', 'узел') {'label': 'verb link', 'locations': [1]}\n",
      "('участок', 'элемент') {'label': 'verb link', 'locations': [1]}\n",
      "('узел', 'аппроксимация') {'label': 'sub link', 'locations': [1]}\n",
      "('узел', 'элемент') {'label': 'verb link', 'locations': [1]}\n",
      "('сеточный', 'аппроксимация') {'label': 'p link', 'locations': [1]}\n",
      "('на', 'элемент') {'label': 'p link', 'locations': [1]}\n",
      "('элемент', 'конечный') {'label': 'p link', 'locations': [1]}\n"
     ]
    }
   ],
   "source": [
    "for e in Graph_2.edges():\n",
    "    print(e, Graph_2.edges[e])"
   ]
  },
  {
   "cell_type": "code",
   "execution_count": null,
   "metadata": {},
   "outputs": [],
   "source": []
  },
  {
   "cell_type": "code",
   "execution_count": null,
   "metadata": {},
   "outputs": [],
   "source": []
  },
  {
   "cell_type": "code",
   "execution_count": null,
   "metadata": {},
   "outputs": [],
   "source": []
  },
  {
   "cell_type": "code",
   "execution_count": null,
   "metadata": {},
   "outputs": [],
   "source": []
  },
  {
   "cell_type": "code",
   "execution_count": null,
   "metadata": {},
   "outputs": [],
   "source": []
  },
  {
   "cell_type": "code",
   "execution_count": null,
   "metadata": {},
   "outputs": [],
   "source": []
  },
  {
   "cell_type": "code",
   "execution_count": null,
   "metadata": {},
   "outputs": [],
   "source": []
  },
  {
   "cell_type": "code",
   "execution_count": null,
   "metadata": {},
   "outputs": [],
   "source": []
  },
  {
   "cell_type": "code",
   "execution_count": null,
   "metadata": {},
   "outputs": [],
   "source": []
  },
  {
   "cell_type": "code",
   "execution_count": null,
   "metadata": {},
   "outputs": [],
   "source": [
    "test_graph = KnowledgeGraph() "
   ]
  },
  {
   "cell_type": "code",
   "execution_count": null,
   "metadata": {},
   "outputs": [],
   "source": [
    "work_dir = \"vspu_2019\""
   ]
  },
  {
   "cell_type": "code",
   "execution_count": 8,
   "metadata": {},
   "outputs": [
    {
     "name": "stderr",
     "output_type": "stream",
     "text": [
      "2024-03-05 22:13:35 INFO: Checking for updates to resources.json in case models have been updated.  Note: this behavior can be turned off with download_method=None or download_method=DownloadMethod.REUSE_RESOURCES\n"
     ]
    },
    {
     "data": {
      "application/vnd.jupyter.widget-view+json": {
       "model_id": "bd5140503f964f6a897c14b529e75538",
       "version_major": 2,
       "version_minor": 0
      },
      "text/plain": [
       "Downloading https://raw.githubusercontent.com/stanfordnlp/stanza-resources/main/resources_1.6.0.json:   0%|   …"
      ]
     },
     "metadata": {},
     "output_type": "display_data"
    },
    {
     "name": "stderr",
     "output_type": "stream",
     "text": [
      "2024-03-05 22:13:38 INFO: Loading these models for language: ru (Russian):\n",
      "==================================\n",
      "| Processor | Package            |\n",
      "----------------------------------\n",
      "| tokenize  | syntagrus          |\n",
      "| pos       | syntagrus_charlm   |\n",
      "| lemma     | syntagrus_nocharlm |\n",
      "| depparse  | syntagrus_charlm   |\n",
      "| ner       | wikiner            |\n",
      "==================================\n",
      "\n",
      "2024-03-05 22:13:38 INFO: Using device: cuda\n",
      "2024-03-05 22:13:38 INFO: Loading: tokenize\n",
      "2024-03-05 22:13:43 INFO: Loading: pos\n",
      "2024-03-05 22:13:44 INFO: Loading: lemma\n",
      "2024-03-05 22:13:44 INFO: Loading: depparse\n",
      "2024-03-05 22:13:44 INFO: Loading: ner\n",
      "2024-03-05 22:13:45 INFO: Done loading processors!\n"
     ]
    }
   ],
   "source": [
    "test_graph_builder = GraphBuilder()"
   ]
  },
  {
   "cell_type": "code",
   "execution_count": 5,
   "metadata": {},
   "outputs": [
    {
     "name": "stdout",
     "output_type": "stream",
     "text": [
      "======================\n",
      "in \tvspu_2019\n",
      "files\t 1228\n",
      "txts\t 614\n",
      "pdfs\t 614\n",
      "======================\n",
      "converted 0 files\n",
      "======================\n",
      "in \tvspu_2019\n",
      "files\t 1228\n",
      "txts\t 614\n",
      "pdfs\t 614\n",
      "======================\n"
     ]
    }
   ],
   "source": [
    "test_graph_builder.select_work_dir(work_dir)\n",
    "test_graph_builder.extract_text_from_pdfs()"
   ]
  },
  {
   "cell_type": "code",
   "execution_count": 4,
   "metadata": {},
   "outputs": [],
   "source": [
    "list = [[(1,2),(3,4)],[(1,2),(3,4)]]"
   ]
  },
  {
   "cell_type": "code",
   "execution_count": 5,
   "metadata": {},
   "outputs": [],
   "source": []
  },
  {
   "cell_type": "code",
   "execution_count": 6,
   "metadata": {},
   "outputs": [
    {
     "name": "stderr",
     "output_type": "stream",
     "text": [
      " 99%|███████████████████████████████████████████████████████████████████████████▍| 1219/1228 [2:35:18<01:08,  7.64s/it]\n"
     ]
    },
    {
     "ename": "MemoryError",
     "evalue": "Unable to allocate 69.5 MiB for an array with shape (3018, 3018) and data type float64",
     "output_type": "error",
     "traceback": [
      "\u001b[1;31m---------------------------------------------------------------------------\u001b[0m",
      "\u001b[1;31mMemoryError\u001b[0m                               Traceback (most recent call last)",
      "Cell \u001b[1;32mIn[6], line 1\u001b[0m\n\u001b[1;32m----> 1\u001b[0m test_graph \u001b[38;5;241m=\u001b[39m \u001b[43mtest_graph_builder\u001b[49m\u001b[38;5;241;43m.\u001b[39;49m\u001b[43madd_all_files_to_graph\u001b[49m\u001b[43m(\u001b[49m\u001b[43mtest_graph\u001b[49m\u001b[43m)\u001b[49m\n",
      "File \u001b[1;32m~\\Desktop\\магистрская\\построение графов на основе текста\\graph_builder.py:68\u001b[0m, in \u001b[0;36mGraphBuilder.add_all_files_to_graph\u001b[1;34m(self, graph_structure, display_mode)\u001b[0m\n\u001b[0;32m     66\u001b[0m \u001b[38;5;28;01mif\u001b[39;00m fname[\u001b[38;5;241m-\u001b[39m\u001b[38;5;241m4\u001b[39m:] \u001b[38;5;241m==\u001b[39m \u001b[38;5;124m\"\u001b[39m\u001b[38;5;124m.txt\u001b[39m\u001b[38;5;124m\"\u001b[39m:\n\u001b[0;32m     67\u001b[0m     \u001b[38;5;28;01mif\u001b[39;00m display_mode \u001b[38;5;241m==\u001b[39m \u001b[38;5;124m\"\u001b[39m\u001b[38;5;124mprogress_bar\u001b[39m\u001b[38;5;124m\"\u001b[39m:\n\u001b[1;32m---> 68\u001b[0m         graph_structure \u001b[38;5;241m=\u001b[39m \u001b[38;5;28;43mself\u001b[39;49m\u001b[38;5;241;43m.\u001b[39;49m\u001b[43mparse_file_and_fill_graph\u001b[49m\u001b[43m(\u001b[49m\u001b[43mgraph_structure\u001b[49m\u001b[43m,\u001b[49m\u001b[43m \u001b[49m\u001b[38;5;28;43mself\u001b[39;49m\u001b[38;5;241;43m.\u001b[39;49m\u001b[43mwork_dir\u001b[49m\u001b[43m \u001b[49m\u001b[38;5;241;43m+\u001b[39;49m\u001b[43m \u001b[49m\u001b[38;5;124;43m\"\u001b[39;49m\u001b[38;5;124;43m/\u001b[39;49m\u001b[38;5;124;43m\"\u001b[39;49m\u001b[43m \u001b[49m\u001b[38;5;241;43m+\u001b[39;49m\u001b[43m \u001b[49m\u001b[43mfname\u001b[49m\u001b[43m,\u001b[49m\u001b[43m \u001b[49m\u001b[43mtrace\u001b[49m\u001b[43m \u001b[49m\u001b[38;5;241;43m=\u001b[39;49m\u001b[43m \u001b[49m\u001b[38;5;28;43;01mFalse\u001b[39;49;00m\u001b[43m)\u001b[49m\n\u001b[0;32m     69\u001b[0m     \u001b[38;5;28;01melse\u001b[39;00m:\n\u001b[0;32m     70\u001b[0m         \u001b[38;5;28mprint\u001b[39m(\u001b[38;5;124mf\u001b[39m\u001b[38;5;124m\"\u001b[39m\u001b[38;5;124mloading \u001b[39m\u001b[38;5;132;01m{\u001b[39;00mfname\u001b[38;5;132;01m}\u001b[39;00m\u001b[38;5;124m\"\u001b[39m)\n",
      "File \u001b[1;32m~\\Desktop\\магистрская\\построение графов на основе текста\\graph_builder.py:124\u001b[0m, in \u001b[0;36mGraphBuilder.parse_file_and_fill_graph\u001b[1;34m(self, graph_structure, fname, trace)\u001b[0m\n\u001b[0;32m    122\u001b[0m \u001b[38;5;66;03m# проход по предложениям в документе\u001b[39;00m\n\u001b[0;32m    123\u001b[0m \u001b[38;5;28;01mfor\u001b[39;00m s \u001b[38;5;129;01min\u001b[39;00m tqdm(current_document) \u001b[38;5;28;01mif\u001b[39;00m trace \u001b[38;5;28;01melse\u001b[39;00m current_document:\n\u001b[1;32m--> 124\u001b[0m     sent_repr \u001b[38;5;241m=\u001b[39m \u001b[38;5;28;43mself\u001b[39;49m\u001b[38;5;241;43m.\u001b[39;49m\u001b[43mparser\u001b[49m\u001b[43m(\u001b[49m\u001b[43ms\u001b[49m\u001b[43m)\u001b[49m\u001b[38;5;241m.\u001b[39msentences[\u001b[38;5;241m0\u001b[39m]\n\u001b[0;32m    125\u001b[0m     parse_d \u001b[38;5;241m=\u001b[39m {}\n\u001b[0;32m    126\u001b[0m     \u001b[38;5;66;03m# преобразование вывода пайплайна в словарь, содержащий только необходимые ключи\u001b[39;00m\n",
      "File \u001b[1;32m~\\AppData\\Local\\Packages\\PythonSoftwareFoundation.Python.3.8_qbz5n2kfra8p0\\LocalCache\\local-packages\\Python38\\site-packages\\stanza\\pipeline\\core.py:471\u001b[0m, in \u001b[0;36mPipeline.__call__\u001b[1;34m(self, doc, processors)\u001b[0m\n\u001b[0;32m    470\u001b[0m \u001b[38;5;28;01mdef\u001b[39;00m \u001b[38;5;21m__call__\u001b[39m(\u001b[38;5;28mself\u001b[39m, doc, processors\u001b[38;5;241m=\u001b[39m\u001b[38;5;28;01mNone\u001b[39;00m):\n\u001b[1;32m--> 471\u001b[0m     \u001b[38;5;28;01mreturn\u001b[39;00m \u001b[38;5;28;43mself\u001b[39;49m\u001b[38;5;241;43m.\u001b[39;49m\u001b[43mprocess\u001b[49m\u001b[43m(\u001b[49m\u001b[43mdoc\u001b[49m\u001b[43m,\u001b[49m\u001b[43m \u001b[49m\u001b[43mprocessors\u001b[49m\u001b[43m)\u001b[49m\n",
      "File \u001b[1;32m~\\AppData\\Local\\Packages\\PythonSoftwareFoundation.Python.3.8_qbz5n2kfra8p0\\LocalCache\\local-packages\\Python38\\site-packages\\stanza\\pipeline\\core.py:422\u001b[0m, in \u001b[0;36mPipeline.process\u001b[1;34m(self, doc, processors)\u001b[0m\n\u001b[0;32m    420\u001b[0m     \u001b[38;5;28;01mif\u001b[39;00m \u001b[38;5;28mself\u001b[39m\u001b[38;5;241m.\u001b[39mprocessors\u001b[38;5;241m.\u001b[39mget(processor_name):\n\u001b[0;32m    421\u001b[0m         process \u001b[38;5;241m=\u001b[39m \u001b[38;5;28mself\u001b[39m\u001b[38;5;241m.\u001b[39mprocessors[processor_name]\u001b[38;5;241m.\u001b[39mbulk_process \u001b[38;5;28;01mif\u001b[39;00m bulk \u001b[38;5;28;01melse\u001b[39;00m \u001b[38;5;28mself\u001b[39m\u001b[38;5;241m.\u001b[39mprocessors[processor_name]\u001b[38;5;241m.\u001b[39mprocess\n\u001b[1;32m--> 422\u001b[0m         doc \u001b[38;5;241m=\u001b[39m \u001b[43mprocess\u001b[49m\u001b[43m(\u001b[49m\u001b[43mdoc\u001b[49m\u001b[43m)\u001b[49m\n\u001b[0;32m    423\u001b[0m \u001b[38;5;28;01mreturn\u001b[39;00m doc\n",
      "File \u001b[1;32m~\\AppData\\Local\\Packages\\PythonSoftwareFoundation.Python.3.8_qbz5n2kfra8p0\\LocalCache\\local-packages\\Python38\\site-packages\\stanza\\pipeline\\depparse_processor.py:65\u001b[0m, in \u001b[0;36mDepparseProcessor.process\u001b[1;34m(self, document)\u001b[0m\n\u001b[0;32m     63\u001b[0m     preds \u001b[38;5;241m=\u001b[39m []\n\u001b[0;32m     64\u001b[0m     \u001b[38;5;28;01mfor\u001b[39;00m i, b \u001b[38;5;129;01min\u001b[39;00m \u001b[38;5;28menumerate\u001b[39m(batch):\n\u001b[1;32m---> 65\u001b[0m         preds \u001b[38;5;241m+\u001b[39m\u001b[38;5;241m=\u001b[39m \u001b[38;5;28;43mself\u001b[39;49m\u001b[38;5;241;43m.\u001b[39;49m\u001b[43mtrainer\u001b[49m\u001b[38;5;241;43m.\u001b[39;49m\u001b[43mpredict\u001b[49m\u001b[43m(\u001b[49m\u001b[43mb\u001b[49m\u001b[43m)\u001b[49m\n\u001b[0;32m     66\u001b[0m \u001b[38;5;28;01mif\u001b[39;00m batch\u001b[38;5;241m.\u001b[39mdata_orig_idx \u001b[38;5;129;01mis\u001b[39;00m \u001b[38;5;129;01mnot\u001b[39;00m \u001b[38;5;28;01mNone\u001b[39;00m:\n\u001b[0;32m     67\u001b[0m     preds \u001b[38;5;241m=\u001b[39m unsort(preds, batch\u001b[38;5;241m.\u001b[39mdata_orig_idx)\n",
      "File \u001b[1;32m~\\AppData\\Local\\Packages\\PythonSoftwareFoundation.Python.3.8_qbz5n2kfra8p0\\LocalCache\\local-packages\\Python38\\site-packages\\stanza\\models\\depparse\\trainer.py:71\u001b[0m, in \u001b[0;36mTrainer.predict\u001b[1;34m(self, batch, unsort)\u001b[0m\n\u001b[0;32m     69\u001b[0m batch_size \u001b[38;5;241m=\u001b[39m word\u001b[38;5;241m.\u001b[39msize(\u001b[38;5;241m0\u001b[39m)\n\u001b[0;32m     70\u001b[0m _, preds \u001b[38;5;241m=\u001b[39m \u001b[38;5;28mself\u001b[39m\u001b[38;5;241m.\u001b[39mmodel(word, word_mask, wordchars, wordchars_mask, upos, xpos, ufeats, pretrained, lemma, head, deprel, word_orig_idx, sentlens, wordlens, text)\n\u001b[1;32m---> 71\u001b[0m head_seqs \u001b[38;5;241m=\u001b[39m [chuliu_edmonds_one_root(adj[:l, :l])[\u001b[38;5;241m1\u001b[39m:] \u001b[38;5;28;01mfor\u001b[39;00m adj, l \u001b[38;5;129;01min\u001b[39;00m \u001b[38;5;28mzip\u001b[39m(preds[\u001b[38;5;241m0\u001b[39m], sentlens)] \u001b[38;5;66;03m# remove attachment for the root\u001b[39;00m\n\u001b[0;32m     72\u001b[0m deprel_seqs \u001b[38;5;241m=\u001b[39m [\u001b[38;5;28mself\u001b[39m\u001b[38;5;241m.\u001b[39mvocab[\u001b[38;5;124m'\u001b[39m\u001b[38;5;124mdeprel\u001b[39m\u001b[38;5;124m'\u001b[39m]\u001b[38;5;241m.\u001b[39munmap([preds[\u001b[38;5;241m1\u001b[39m][i][j\u001b[38;5;241m+\u001b[39m\u001b[38;5;241m1\u001b[39m][h] \u001b[38;5;28;01mfor\u001b[39;00m j, h \u001b[38;5;129;01min\u001b[39;00m \u001b[38;5;28menumerate\u001b[39m(hs)]) \u001b[38;5;28;01mfor\u001b[39;00m i, hs \u001b[38;5;129;01min\u001b[39;00m \u001b[38;5;28menumerate\u001b[39m(head_seqs)]\n\u001b[0;32m     74\u001b[0m pred_tokens \u001b[38;5;241m=\u001b[39m [[[\u001b[38;5;28mstr\u001b[39m(head_seqs[i][j]), deprel_seqs[i][j]] \u001b[38;5;28;01mfor\u001b[39;00m j \u001b[38;5;129;01min\u001b[39;00m \u001b[38;5;28mrange\u001b[39m(sentlens[i]\u001b[38;5;241m-\u001b[39m\u001b[38;5;241m1\u001b[39m)] \u001b[38;5;28;01mfor\u001b[39;00m i \u001b[38;5;129;01min\u001b[39;00m \u001b[38;5;28mrange\u001b[39m(batch_size)]\n",
      "File \u001b[1;32m~\\AppData\\Local\\Packages\\PythonSoftwareFoundation.Python.3.8_qbz5n2kfra8p0\\LocalCache\\local-packages\\Python38\\site-packages\\stanza\\models\\depparse\\trainer.py:71\u001b[0m, in \u001b[0;36m<listcomp>\u001b[1;34m(.0)\u001b[0m\n\u001b[0;32m     69\u001b[0m batch_size \u001b[38;5;241m=\u001b[39m word\u001b[38;5;241m.\u001b[39msize(\u001b[38;5;241m0\u001b[39m)\n\u001b[0;32m     70\u001b[0m _, preds \u001b[38;5;241m=\u001b[39m \u001b[38;5;28mself\u001b[39m\u001b[38;5;241m.\u001b[39mmodel(word, word_mask, wordchars, wordchars_mask, upos, xpos, ufeats, pretrained, lemma, head, deprel, word_orig_idx, sentlens, wordlens, text)\n\u001b[1;32m---> 71\u001b[0m head_seqs \u001b[38;5;241m=\u001b[39m [\u001b[43mchuliu_edmonds_one_root\u001b[49m\u001b[43m(\u001b[49m\u001b[43madj\u001b[49m\u001b[43m[\u001b[49m\u001b[43m:\u001b[49m\u001b[43ml\u001b[49m\u001b[43m,\u001b[49m\u001b[43m \u001b[49m\u001b[43m:\u001b[49m\u001b[43ml\u001b[49m\u001b[43m]\u001b[49m\u001b[43m)\u001b[49m[\u001b[38;5;241m1\u001b[39m:] \u001b[38;5;28;01mfor\u001b[39;00m adj, l \u001b[38;5;129;01min\u001b[39;00m \u001b[38;5;28mzip\u001b[39m(preds[\u001b[38;5;241m0\u001b[39m], sentlens)] \u001b[38;5;66;03m# remove attachment for the root\u001b[39;00m\n\u001b[0;32m     72\u001b[0m deprel_seqs \u001b[38;5;241m=\u001b[39m [\u001b[38;5;28mself\u001b[39m\u001b[38;5;241m.\u001b[39mvocab[\u001b[38;5;124m'\u001b[39m\u001b[38;5;124mdeprel\u001b[39m\u001b[38;5;124m'\u001b[39m]\u001b[38;5;241m.\u001b[39munmap([preds[\u001b[38;5;241m1\u001b[39m][i][j\u001b[38;5;241m+\u001b[39m\u001b[38;5;241m1\u001b[39m][h] \u001b[38;5;28;01mfor\u001b[39;00m j, h \u001b[38;5;129;01min\u001b[39;00m \u001b[38;5;28menumerate\u001b[39m(hs)]) \u001b[38;5;28;01mfor\u001b[39;00m i, hs \u001b[38;5;129;01min\u001b[39;00m \u001b[38;5;28menumerate\u001b[39m(head_seqs)]\n\u001b[0;32m     74\u001b[0m pred_tokens \u001b[38;5;241m=\u001b[39m [[[\u001b[38;5;28mstr\u001b[39m(head_seqs[i][j]), deprel_seqs[i][j]] \u001b[38;5;28;01mfor\u001b[39;00m j \u001b[38;5;129;01min\u001b[39;00m \u001b[38;5;28mrange\u001b[39m(sentlens[i]\u001b[38;5;241m-\u001b[39m\u001b[38;5;241m1\u001b[39m)] \u001b[38;5;28;01mfor\u001b[39;00m i \u001b[38;5;129;01min\u001b[39;00m \u001b[38;5;28mrange\u001b[39m(batch_size)]\n",
      "File \u001b[1;32m~\\AppData\\Local\\Packages\\PythonSoftwareFoundation.Python.3.8_qbz5n2kfra8p0\\LocalCache\\local-packages\\Python38\\site-packages\\stanza\\models\\common\\chuliu_edmonds.py:250\u001b[0m, in \u001b[0;36mchuliu_edmonds_one_root\u001b[1;34m(scores)\u001b[0m\n\u001b[0;32m    247\u001b[0m \u001b[38;5;250m\u001b[39m\u001b[38;5;124;03m\"\"\"\"\"\"\u001b[39;00m\n\u001b[0;32m    249\u001b[0m scores \u001b[38;5;241m=\u001b[39m scores\u001b[38;5;241m.\u001b[39mastype(np\u001b[38;5;241m.\u001b[39mfloat64)\n\u001b[1;32m--> 250\u001b[0m tree \u001b[38;5;241m=\u001b[39m \u001b[43mchuliu_edmonds\u001b[49m\u001b[43m(\u001b[49m\u001b[43mscores\u001b[49m\u001b[43m)\u001b[49m\n\u001b[0;32m    251\u001b[0m roots_to_try \u001b[38;5;241m=\u001b[39m np\u001b[38;5;241m.\u001b[39mwhere(np\u001b[38;5;241m.\u001b[39mequal(tree[\u001b[38;5;241m1\u001b[39m:], \u001b[38;5;241m0\u001b[39m))[\u001b[38;5;241m0\u001b[39m]\u001b[38;5;241m+\u001b[39m\u001b[38;5;241m1\u001b[39m\n\u001b[0;32m    252\u001b[0m \u001b[38;5;28;01mif\u001b[39;00m \u001b[38;5;28mlen\u001b[39m(roots_to_try) \u001b[38;5;241m==\u001b[39m \u001b[38;5;241m1\u001b[39m:\n",
      "File \u001b[1;32m~\\AppData\\Local\\Packages\\PythonSoftwareFoundation.Python.3.8_qbz5n2kfra8p0\\LocalCache\\local-packages\\Python38\\site-packages\\stanza\\models\\common\\chuliu_edmonds.py:230\u001b[0m, in \u001b[0;36mchuliu_edmonds\u001b[1;34m(scores)\u001b[0m\n\u001b[0;32m    213\u001b[0m \u001b[38;5;66;03m#print(scores)\u001b[39;00m\n\u001b[0;32m    214\u001b[0m \u001b[38;5;66;03m#print(cycles)\u001b[39;00m\n\u001b[0;32m    215\u001b[0m \n\u001b[1;32m   (...)\u001b[0m\n\u001b[0;32m    224\u001b[0m \u001b[38;5;66;03m# unfortunately, while the recursion is simpler to understand, it can get too deep for python's stack limit\u001b[39;00m\n\u001b[0;32m    225\u001b[0m \u001b[38;5;66;03m# so instead we make our own recursion, with blackjack and (you know how it goes)\u001b[39;00m\n\u001b[0;32m    227\u001b[0m \u001b[38;5;28;01mwhile\u001b[39;00m cycles:\n\u001b[0;32m    228\u001b[0m     \u001b[38;5;66;03m# t = len(tree); c = len(cycle); n = len(noncycle)\u001b[39;00m\n\u001b[0;32m    229\u001b[0m     \u001b[38;5;66;03m# cycles.pop(): locations of cycle; (t) in [0,1]\u001b[39;00m\n\u001b[1;32m--> 230\u001b[0m     subscores, cycle_locs, noncycle_locs, metanode_heads, metanode_deps \u001b[38;5;241m=\u001b[39m \u001b[43mprocess_cycle\u001b[49m\u001b[43m(\u001b[49m\u001b[43mtree\u001b[49m\u001b[43m,\u001b[49m\u001b[43m \u001b[49m\u001b[43mcycles\u001b[49m\u001b[38;5;241;43m.\u001b[39;49m\u001b[43mpop\u001b[49m\u001b[43m(\u001b[49m\u001b[43m)\u001b[49m\u001b[43m,\u001b[49m\u001b[43m \u001b[49m\u001b[43mscores\u001b[49m\u001b[43m)\u001b[49m\n\u001b[0;32m    231\u001b[0m     subtree_stack\u001b[38;5;241m.\u001b[39mappend((tree, cycles, scores, subscores, cycle_locs, noncycle_locs, metanode_heads, metanode_deps))\n\u001b[0;32m    233\u001b[0m     scores \u001b[38;5;241m=\u001b[39m subscores\n",
      "File \u001b[1;32m~\\AppData\\Local\\Packages\\PythonSoftwareFoundation.Python.3.8_qbz5n2kfra8p0\\LocalCache\\local-packages\\Python38\\site-packages\\stanza\\models\\common\\chuliu_edmonds.py:154\u001b[0m, in \u001b[0;36mprocess_cycle\u001b[1;34m(tree, cycle, scores)\u001b[0m\n\u001b[0;32m    151\u001b[0m metanode_deps \u001b[38;5;241m=\u001b[39m np\u001b[38;5;241m.\u001b[39margmax(metanode_dep_scores, axis\u001b[38;5;241m=\u001b[39m\u001b[38;5;241m1\u001b[39m)\n\u001b[0;32m    153\u001b[0m \u001b[38;5;66;03m# scores of noncycle graph; (n x n) in R\u001b[39;00m\n\u001b[1;32m--> 154\u001b[0m subscores \u001b[38;5;241m=\u001b[39m \u001b[43mscores\u001b[49m\u001b[43m[\u001b[49m\u001b[43mnoncycle\u001b[49m\u001b[43m]\u001b[49m\u001b[43m[\u001b[49m\u001b[43m:\u001b[49m\u001b[43m,\u001b[49m\u001b[43mnoncycle\u001b[49m\u001b[43m]\u001b[49m\n\u001b[0;32m    155\u001b[0m \u001b[38;5;66;03m# pad to contracted graph; (n+1 x n+1) in R\u001b[39;00m\n\u001b[0;32m    156\u001b[0m subscores \u001b[38;5;241m=\u001b[39m np\u001b[38;5;241m.\u001b[39mpad(subscores, ( (\u001b[38;5;241m0\u001b[39m,\u001b[38;5;241m1\u001b[39m) , (\u001b[38;5;241m0\u001b[39m,\u001b[38;5;241m1\u001b[39m) ), \u001b[38;5;124m'\u001b[39m\u001b[38;5;124mconstant\u001b[39m\u001b[38;5;124m'\u001b[39m)\n",
      "\u001b[1;31mMemoryError\u001b[0m: Unable to allocate 69.5 MiB for an array with shape (3018, 3018) and data type float64"
     ]
    }
   ],
   "source": [
    "test_graph = test_graph_builder.add_all_files_to_graph(test_graph)"
   ]
  },
  {
   "cell_type": "code",
   "execution_count": 7,
   "metadata": {},
   "outputs": [
    {
     "data": {
      "text/plain": [
       "24522"
      ]
     },
     "execution_count": 7,
     "metadata": {},
     "output_type": "execute_result"
    }
   ],
   "source": [
    "print(len(test_graph.G.nodes))\n",
    "print(len(test_graph.G.edges))"
   ]
  },
  {
   "cell_type": "code",
   "execution_count": 29,
   "metadata": {},
   "outputs": [
    {
     "name": "stdout",
     "output_type": "stream",
     "text": [
      "removed 1467 nodes\n",
      "removed 0 edges\n"
     ]
    }
   ],
   "source": [
    "test_graph = test_graph_builder.apply_node_frequency_limit(test_graph, limit = 11)\n",
    "test_graph = test_graph_builder.apply_edge_frequency_limit(test_graph, limit = 6)\n",
    "#test_graph = test_graph_builder.apply_word_reasonability_check(test_graph)"
   ]
  },
  {
   "cell_type": "code",
   "execution_count": 30,
   "metadata": {},
   "outputs": [
    {
     "name": "stdout",
     "output_type": "stream",
     "text": [
      "3451\n",
      "3987\n"
     ]
    }
   ],
   "source": [
    "print(len(test_graph.G.nodes))\n",
    "print(len(test_graph.G.edges))"
   ]
  },
  {
   "cell_type": "code",
   "execution_count": 31,
   "metadata": {},
   "outputs": [],
   "source": [
    "import networkx as nx\n",
    "test_graph.pos = nx.random_layout(test_graph.G)\n",
    "test_graph.pos = {node : [str(pos[0]), str(pos[1])] for node, pos in test_graph.pos.items()}"
   ]
  },
  {
   "cell_type": "code",
   "execution_count": 32,
   "metadata": {},
   "outputs": [],
   "source": [
    "linker = GranLinker(test_graph)"
   ]
  },
  {
   "cell_type": "code",
   "execution_count": 33,
   "metadata": {},
   "outputs": [
    {
     "name": "stdout",
     "output_type": "stream",
     "text": [
      "links _f:\t done\n"
     ]
    }
   ],
   "source": [
    "links_f = linker.produce_frequency_links(top_p = 100)\n",
    "print(\"links _f:\\t done\")\n",
    "# links_d = linker.produce_distance_links(top_p = 100) # это выбирает из всевозможных пар, а не только существующих связей\n",
    "# print(\"links _d:\\t done\")\n",
    "# links_s = linker.produce_semantic_links(top_p=100)\n",
    "# print(\"links _s:\\t done\")\n",
    "links = [links_f]#, links_d, links_s]\n",
    "linker.imprint_links(links)"
   ]
  },
  {
   "cell_type": "code",
   "execution_count": 34,
   "metadata": {
    "scrolled": true
   },
   "outputs": [],
   "source": [
    "test_graph.save(\"vspu_2019_graph_high_filter\")"
   ]
  },
  {
   "cell_type": "code",
   "execution_count": null,
   "metadata": {},
   "outputs": [],
   "source": []
  },
  {
   "cell_type": "code",
   "execution_count": 18,
   "metadata": {},
   "outputs": [],
   "source": [
    "import networkx as nx\n",
    "from graph_structure import KnowledgeGraph\n",
    "\n",
    "graph = KnowledgeGraph()\n",
    "graph.load(\"vspu_2019_graph_low_filter\")\n",
    "networkx_graph = graph.G"
   ]
  },
  {
   "cell_type": "code",
   "execution_count": 19,
   "metadata": {},
   "outputs": [
    {
     "name": "stdout",
     "output_type": "stream",
     "text": [
      "removed 1773 nodes\n",
      "removed 11594 edges\n"
     ]
    }
   ],
   "source": [
    "graph = test_graph_builder.apply_node_frequency_limit(graph, limit = 3)\n",
    "graph = test_graph_builder.apply_edge_frequency_limit(graph, limit = 3)"
   ]
  },
  {
   "cell_type": "code",
   "execution_count": 20,
   "metadata": {},
   "outputs": [],
   "source": [
    "graph.save(\"vspu_2019_graph_3_3\")"
   ]
  },
  {
   "cell_type": "code",
   "execution_count": 16,
   "metadata": {},
   "outputs": [],
   "source": []
  },
  {
   "cell_type": "code",
   "execution_count": 17,
   "metadata": {},
   "outputs": [],
   "source": [
    "test_graph.pos = nx.random_layout(test_graph.G)"
   ]
  },
  {
   "cell_type": "code",
   "execution_count": 22,
   "metadata": {},
   "outputs": [],
   "source": [
    "test_graph.pos = {node : [str(pos[0]), str(pos[1])] for node, pos in test_graph.pos.items()}"
   ]
  },
  {
   "cell_type": "code",
   "execution_count": 20,
   "metadata": {},
   "outputs": [
    {
     "name": "stdout",
     "output_type": "stream",
     "text": [
      "links _f:\t done\n"
     ]
    }
   ],
   "source": [
    "links_f = linker.produce_frequency_links(top_p = 100)\n",
    "print(\"links _f:\\t done\")\n",
    "# links_d = linker.produce_distance_links(top_p = 100) # это выбирает из всевозможных пар, а не только существующих связей\n",
    "# print(\"links _d:\\t done\")\n",
    "# links_s = linker.produce_semantic_links(top_p=100)\n",
    "# print(\"links _s:\\t done\")\n",
    "links = [links_f]#, links_d, links_s]\n",
    "linker.imprint_links(links)"
   ]
  },
  {
   "cell_type": "code",
   "execution_count": 23,
   "metadata": {},
   "outputs": [],
   "source": [
    "test_graph.save(\"vspu_2019_graph\")"
   ]
  },
  {
   "cell_type": "markdown",
   "metadata": {},
   "source": [
    "======================================== Делаем расстояния по графу ========================================"
   ]
  },
  {
   "cell_type": "code",
   "execution_count": 96,
   "metadata": {},
   "outputs": [],
   "source": [
    "import random\n",
    "from tqdm import tqdm\n",
    "import numpy as np\n",
    "import pylab"
   ]
  },
  {
   "cell_type": "code",
   "execution_count": 34,
   "metadata": {},
   "outputs": [],
   "source": [
    "import networkx as nx\n",
    "from graph_structure import KnowledgeGraph\n",
    "\n",
    "graph = KnowledgeGraph()\n",
    "graph.load(\"vspu_2019_graph_3_3\")\n",
    "networkx_graph = graph.G"
   ]
  },
  {
   "cell_type": "code",
   "execution_count": 33,
   "metadata": {},
   "outputs": [
    {
     "name": "stdout",
     "output_type": "stream",
     "text": [
      "7060\n",
      "12396\n"
     ]
    }
   ],
   "source": [
    "print(len(graph.G.nodes))\n",
    "print(len(graph.G.edges))"
   ]
  },
  {
   "cell_type": "code",
   "execution_count": 43,
   "metadata": {},
   "outputs": [
    {
     "name": "stdout",
     "output_type": "stream",
     "text": [
      "True\n",
      "True\n"
     ]
    }
   ],
   "source": [
    "print(\"работа\" in networkx_graph.nodes)\n",
    "print(\"объем\" in networkx_graph.nodes)"
   ]
  },
  {
   "cell_type": "code",
   "execution_count": 46,
   "metadata": {},
   "outputs": [],
   "source": [
    "dist_graph = nx.Graph()\n",
    "dist_graph.add_nodes_from(networkx_graph.nodes())\n",
    "for link in graph.links[\"freq_link\"]:\n",
    "    dist_graph.add_edge(*link, **graph.links[\"freq_link\"][link])"
   ]
  },
  {
   "cell_type": "code",
   "execution_count": 50,
   "metadata": {},
   "outputs": [
    {
     "data": {
      "text/plain": [
       "2"
      ]
     },
     "execution_count": 50,
     "metadata": {},
     "output_type": "execute_result"
    }
   ],
   "source": [
    "nx.shortest_path_length(dist_graph, \"работа\", \"объем\")"
   ]
  },
  {
   "cell_type": "code",
   "execution_count": 48,
   "metadata": {},
   "outputs": [
    {
     "data": {
      "text/plain": [
       "0.12048294495103005"
      ]
     },
     "execution_count": 48,
     "metadata": {},
     "output_type": "execute_result"
    }
   ],
   "source": [
    "nx.shortest_path_length(dist_graph, \"работа\", \"объем\", weight = \"score\")"
   ]
  },
  {
   "cell_type": "code",
   "execution_count": 51,
   "metadata": {},
   "outputs": [
    {
     "data": {
      "text/plain": [
       "['работа', 'система', 'большой', 'объем']"
      ]
     },
     "execution_count": 51,
     "metadata": {},
     "output_type": "execute_result"
    }
   ],
   "source": [
    "nx.shortest_path(dist_graph, \"работа\", \"объем\", weight = \"score\")"
   ]
  },
  {
   "cell_type": "code",
   "execution_count": 52,
   "metadata": {},
   "outputs": [
    {
     "data": {
      "text/plain": [
       "['работа', 'ресурс', 'объем']"
      ]
     },
     "execution_count": 52,
     "metadata": {},
     "output_type": "execute_result"
    }
   ],
   "source": [
    "nx.shortest_path(dist_graph, \"работа\", \"объем\")"
   ]
  },
  {
   "cell_type": "code",
   "execution_count": 84,
   "metadata": {},
   "outputs": [],
   "source": [
    "from networkx.classes.function import path_weight"
   ]
  },
  {
   "cell_type": "code",
   "execution_count": 66,
   "metadata": {},
   "outputs": [],
   "source": [
    "subgraph_1 = []\n",
    "subgraph_2 = []\n",
    "subgraph_len = 50\n",
    "for _ in range(subgraph_len):\n",
    "    subgraph_1.append(random.choice(list(graph.G.nodes)))\n",
    "    subgraph_2.append(random.choice(list(graph.G.nodes)))"
   ]
  },
  {
   "cell_type": "code",
   "execution_count": 68,
   "metadata": {},
   "outputs": [],
   "source": [
    "subgraph_1 = graph.G.subgraph(subgraph_1)\n",
    "subgraph_2 = graph.G.subgraph(subgraph_2)"
   ]
  },
  {
   "cell_type": "code",
   "execution_count": 91,
   "metadata": {},
   "outputs": [
    {
     "name": "stderr",
     "output_type": "stream",
     "text": [
      "100%|███████████████████████████████████████████████████████████████████████████████| 49/49 [00:00<00:00, 12194.19it/s]\n"
     ]
    }
   ],
   "source": [
    "# расстояние от вершин до графа\n",
    "for node in tqdm(subgraph_1.nodes):\n",
    "    for other in subgraph_2.nodes:\n",
    "        try:\n",
    "            path = nx.shortest_path(dist_graph, node, other)\n",
    "            path_length = path_weight(dist_graph, path, weight = \"score\")\n",
    "        except BaseException:\n",
    "            pass"
   ]
  },
  {
   "cell_type": "markdown",
   "metadata": {},
   "source": [
    "Смотрим на узлы и их частоты"
   ]
  },
  {
   "cell_type": "code",
   "execution_count": 95,
   "metadata": {},
   "outputs": [],
   "source": [
    "narr = []\n",
    "for num, node in enumerate(graph.G.nodes):\n",
    "    narr.append([num, len(graph.G.nodes[node][\"locations\"])])\n",
    "narr = np.array(narr)"
   ]
  },
  {
   "cell_type": "code",
   "execution_count": 99,
   "metadata": {},
   "outputs": [
    {
     "data": {
      "text/plain": [
       "56.50552407932011"
      ]
     },
     "execution_count": 99,
     "metadata": {},
     "output_type": "execute_result"
    }
   ],
   "source": [
    "narr[:,1].mean()"
   ]
  },
  {
   "cell_type": "code",
   "execution_count": 103,
   "metadata": {},
   "outputs": [
    {
     "data": {
      "text/plain": [
       "10.0"
      ]
     },
     "execution_count": 103,
     "metadata": {},
     "output_type": "execute_result"
    }
   ],
   "source": [
    "np.median(narr[:,1])"
   ]
  },
  {
   "cell_type": "code",
   "execution_count": 111,
   "metadata": {},
   "outputs": [
    {
     "data": {
      "text/plain": [
       "array([214.1])"
      ]
     },
     "execution_count": 111,
     "metadata": {},
     "output_type": "execute_result"
    }
   ],
   "source": [
    "np.quantile(narr[:,1], [0.95])"
   ]
  },
  {
   "cell_type": "code",
   "execution_count": 97,
   "metadata": {},
   "outputs": [
    {
     "data": {
      "text/plain": [
       "[<matplotlib.lines.Line2D at 0x2462b55f2b0>]"
      ]
     },
     "execution_count": 97,
     "metadata": {},
     "output_type": "execute_result"
    },
    {
     "data": {
      "image/png": "[encoded data removed]",
      "text/plain": [
       "<Figure size 640x480 with 1 Axes>"
      ]
     },
     "metadata": {},
     "output_type": "display_data"
    }
   ],
   "source": [
    "pylab.plot(narr[:,0], narr[:,1])"
   ]
  },
  {
   "cell_type": "code",
   "execution_count": 112,
   "metadata": {},
   "outputs": [
    {
     "name": "stdout",
     "output_type": "stream",
     "text": [
      "всероссийский\n",
      "совещание\n",
      "проблема\n",
      "управлений\n",
      "год\n",
      "москва\n",
      "создание\n",
      "работа\n",
      "новый\n",
      "вид\n",
      "эффект\n",
      "использование\n",
      "современный\n",
      "этап\n",
      "развитие\n",
      "разработка\n",
      "производство\n",
      "исследование\n",
      "основа\n",
      "пример\n",
      "применение\n",
      "характеристика\n",
      "процесс\n",
      "случайный\n",
      "иметь\n",
      "материал\n",
      "отсутствие\n",
      "являться\n",
      "часть\n",
      "высокий\n",
      "коэффициент\n",
      "время\n",
      "система\n",
      "однако\n",
      "необходимость\n",
      "фактор\n",
      "ряд\n",
      "размер\n",
      "диапазон\n",
      "другой\n",
      "рассматривать\n",
      "точность\n",
      "положение\n",
      "построение\n",
      "важный\n",
      "элемент\n",
      "большой\n",
      "количество\n",
      "компания\n",
      "страна\n",
      "оценка\n",
      "возможность\n",
      "снижение\n",
      "уровень\n",
      "ресурс\n",
      "интерес\n",
      "число\n",
      "необходимый\n",
      "сложный\n",
      "аппарат\n",
      "класс\n",
      "скорость\n",
      "датчик\n",
      "база\n",
      "технология\n",
      "управление\n",
      "движение\n",
      "тема\n",
      "реализация\n",
      "объем\n",
      "решение\n",
      "мочь\n",
      "принцип\n",
      "действие\n",
      "поле\n",
      "форма\n",
      "первый\n",
      "измерение\n",
      "результат\n",
      "длина\n",
      "малый\n",
      "определенный\n",
      "ской\n",
      "степень\n",
      "повышение\n",
      "направление\n",
      "данные\n",
      "различный\n",
      "литература\n",
      "список\n",
      "с.\n",
      "состояние\n",
      "область\n",
      "основание\n",
      "в.\n",
      "д.\n",
      "к.\n",
      "г.\n",
      "основной\n",
      "концепция\n",
      "сеть\n",
      "устройство\n",
      "набор\n",
      "физический\n",
      "пользователь\n",
      "алгоритм\n",
      "программа\n",
      "фонд\n",
      "поддержка\n",
      "способность\n",
      "информация\n",
      "мониторинг\n",
      "объект\n",
      "должен\n",
      "реальный\n",
      "также\n",
      "адаптивный\n",
      "цель\n",
      "наука\n",
      "синтез\n",
      "компонент\n",
      "теория\n",
      "вычислительный\n",
      "так\n",
      "преобразование\n",
      "техника\n",
      "предприятие\n",
      "разный\n",
      "государственный\n",
      "цифровой\n",
      "экономика\n",
      "мера\n",
      "ной\n",
      "роль\n",
      "подход\n",
      "метод\n",
      "изменение\n",
      "свойство\n",
      "р.\n",
      "информационный\n",
      "оценивание\n",
      "институт\n",
      "п.\n",
      "задача\n",
      "комплекс\n",
      "проектирование\n",
      "платформа\n",
      "использовать\n",
      "ран\n",
      "получить\n",
      "робот\n",
      "где\n",
      "функционирование\n",
      "безопасность\n",
      "граница\n",
      "участок\n",
      "оборудование\n",
      "связь\n",
      "зона\n",
      "отрасль\n",
      "центр\n",
      "надежность\n",
      "мощность\n",
      "проект\n",
      "известный\n",
      "продукция\n",
      "рынок\n",
      "данный\n",
      "передача\n",
      "способ\n",
      "дополнительный\n",
      "требовать\n",
      "проведение\n",
      "определение\n",
      "технический\n",
      "учет\n",
      "условие\n",
      "схема\n",
      "выбор\n",
      "особенность\n",
      "зависеть\n",
      "нагрузка\n",
      "возможный\n",
      "ось\n",
      "отношение\n",
      "масса\n",
      "конструкция\n",
      "целевой\n",
      "путь\n",
      "наличие\n",
      "поэтому\n",
      "соответствующий\n",
      "вероятность\n",
      "существовать\n",
      "поток\n",
      "эффективность\n",
      "общий\n",
      "шаг\n",
      "угол\n",
      "механизм\n",
      "вариант\n",
      "частота\n",
      "математический\n",
      "модель\n",
      "влияние\n",
      "динамика\n",
      "позволять\n",
      "уравнение\n",
      "расчет\n",
      "сила\n",
      "зависимость\n",
      "величина\n",
      "модуль\n",
      "испытание\n",
      "рамка\n",
      "следующий\n",
      "методология\n",
      "сигнал\n",
      "линия\n",
      "стабилизация\n",
      "параметр\n",
      "канал\n",
      "распределение\n",
      "источник\n",
      "распространение\n",
      "выход\n",
      "внедрение\n",
      "режим\n",
      "взаимодействие\n",
      "устойчивость\n",
      "оптимизация\n",
      "вычисление\n",
      "матрица\n",
      "анализ\n",
      "размерность\n",
      "переменная\n",
      "значение\n",
      "динамический\n",
      "задать\n",
      "эффективный\n",
      "колебание\n",
      "оптимальный\n",
      "системный\n",
      "регулятор\n",
      "ние\n",
      "функция\n",
      "идея\n",
      "интервал\n",
      "состоять\n",
      "текущий\n",
      "формирование\n",
      "поиск\n",
      "технологический\n",
      "интеллектуальный\n",
      "риск\n",
      "потеря\n",
      "конечный\n",
      "линейный\n",
      "группа\n",
      "случай\n",
      "идентификация\n",
      "начальный\n",
      "прогноз\n",
      "переход\n",
      "представление\n",
      "формула\n",
      "процедура\n",
      "максимальный\n",
      "российский\n",
      "полный\n",
      "пространство\n",
      "управлять\n",
      "обратный\n",
      "вектор\n",
      "отдельный\n",
      "координата\n",
      "получение\n",
      "понятие\n",
      "порядок\n",
      "момент\n",
      "операция\n",
      "структура\n",
      "ошибка\n",
      "поведение\n",
      "равный\n",
      "моделирование\n",
      "неопределенность\n",
      "функциональный\n",
      "критерий\n",
      "конференция\n",
      "труд\n",
      "среда\n",
      "граф\n",
      "приложение\n",
      "сложность\n",
      "постановка\n",
      "требование\n",
      "множество\n",
      "узел\n",
      "тип\n",
      "университет\n",
      "о.\n",
      "выполнение\n",
      "возмущение\n",
      "вопрос\n",
      "внешний\n",
      "нелинейный\n",
      "ограничение\n",
      "воздействие\n",
      "фильтр\n",
      "организация\n",
      "второй\n",
      "увеличение\n",
      "исходный\n",
      "рост\n",
      "научный\n",
      "имя\n",
      "цикл\n",
      "описание\n",
      "траектория\n",
      "средства\n",
      "эксперимент\n",
      "защита\n",
      "достижение\n",
      "сторона\n",
      "качество\n",
      "блок\n",
      "аспект\n",
      "точка\n",
      "закон\n",
      "правило\n",
      "период\n",
      "состав\n",
      "программный\n",
      "задание\n",
      "оператор\n",
      "отклонение\n",
      "звено\n",
      "человек\n",
      "доступ\n",
      "средний\n",
      "стратегия\n",
      "образ\n",
      "методика\n",
      "структурный\n",
      "экономический\n",
      "характер\n",
      "выборка\n",
      "фильтрация\n",
      "прогнозирование\n",
      "знание\n",
      "обеспечение\n",
      "обработка\n",
      "слой\n",
      "план\n",
      "ситуация\n",
      "затрата\n",
      "плотность\n",
      "расход\n",
      "потенциал\n",
      "составляющая\n",
      "сценарий\n",
      "временный\n",
      "деятельность\n",
      "признак\n",
      "конкретный\n",
      "обучение\n",
      "принятие\n",
      "погрешность\n",
      "показатель\n",
      "планирование\n",
      "контроль\n",
      "стоимость\n",
      "инфраструктура\n",
      "вершина\n",
      "субъект\n",
      "агент\n",
      "игра\n",
      "сервис\n",
      "регион\n",
      "согласование\n"
     ]
    }
   ],
   "source": [
    "for num, node in enumerate(graph.G.nodes):\n",
    "    if len(graph.G.nodes[node][\"locations\"]) > 200:\n",
    "        print(node)"
   ]
  },
  {
   "cell_type": "markdown",
   "metadata": {},
   "source": [
    "========================================"
   ]
  },
  {
   "cell_type": "code",
   "execution_count": 1,
   "metadata": {},
   "outputs": [],
   "source": [
    "from graph_analyser import GraphAnalyser\n",
    "from graph_structure import KnowledgeGraph"
   ]
  },
  {
   "cell_type": "code",
   "execution_count": 2,
   "metadata": {},
   "outputs": [],
   "source": [
    "test_graph = KnowledgeGraph() "
   ]
  },
  {
   "cell_type": "code",
   "execution_count": 4,
   "metadata": {},
   "outputs": [],
   "source": [
    "test_graph.load(\"test_save\")"
   ]
  },
  {
   "cell_type": "code",
   "execution_count": 5,
   "metadata": {},
   "outputs": [],
   "source": [
    "test_graph.save(\"test_save\")"
   ]
  },
  {
   "cell_type": "code",
   "execution_count": 5,
   "metadata": {},
   "outputs": [],
   "source": [
    "gran = GraphAnalyser(test_graph)"
   ]
  },
  {
   "cell_type": "code",
   "execution_count": 10,
   "metadata": {},
   "outputs": [],
   "source": [
    "#test_graph.compute_layout(use_links=False)"
   ]
  },
  {
   "cell_type": "code",
   "execution_count": 7,
   "metadata": {},
   "outputs": [
    {
     "name": "stdout",
     "output_type": "stream",
     "text": [
      "links _f:\t done\n",
      "links _d:\t done\n",
      "links _s:\t loaded\n"
     ]
    }
   ],
   "source": [
    "links_f = gran.produce_frequency_links(top_p = 100)\n",
    "print(\"links _f:\\t done\")\n",
    "links_d = gran.produce_distance_links(top_p = 100) # это выбирает из всевозможных пар, а не только существующих связей\n",
    "print(\"links _d:\\t done\")\n",
    "links_s = gran.produce_links(link_type = \"sem_link\", top_p=100)\n",
    "print(\"links _s:\\t loaded\")\n",
    "links = {**links_f, **links_d, **links_s}\n",
    "gran.imprint_links(links)\n",
    "test_graph.save(\"test_save\")"
   ]
  },
  {
   "cell_type": "code",
   "execution_count": 11,
   "metadata": {},
   "outputs": [
    {
     "name": "stdout",
     "output_type": "stream",
     "text": [
      "links _f:\t done\n",
      "links _d:\t done\n"
     ]
    },
    {
     "name": "stderr",
     "output_type": "stream",
     "text": [
      "Some weights of RobertaModel were not initialized from the model checkpoint at ai-forever/ruSciBERT and are newly initialized: ['roberta.pooler.dense.weight', 'roberta.pooler.dense.bias']\n",
      "You should probably TRAIN this model on a down-stream task to be able to use it for predictions and inference.\n",
      "100%|██████████████████████████████████████████████████████████████████████████████| 2310/2310 [14:19<00:00,  2.69it/s]\n"
     ]
    },
    {
     "name": "stdout",
     "output_type": "stream",
     "text": [
      "links _s:\t done\n"
     ]
    }
   ],
   "source": [
    "# links_f = gran.produce_frequency_links(top_p = 100)\n",
    "# print(\"links _f:\\t done\")\n",
    "# links_d = gran.produce_distance_links(top_p = 100) # это выбирает из всевозможных пар, а не только существующих связей\n",
    "# print(\"links _d:\\t done\")\n",
    "# links_s = gran.produce_semantic_links(top_p = 100)\n",
    "# print(\"links _s:\\t done\")\n",
    "# links = {**links_f, **links_d, **links_s}\n",
    "# gran.imprint_links(links)"
   ]
  },
  {
   "cell_type": "code",
   "execution_count": 12,
   "metadata": {},
   "outputs": [],
   "source": [
    "# test_graph.save(\"test_save.kg\")"
   ]
  },
  {
   "cell_type": "code",
   "execution_count": 6,
   "metadata": {},
   "outputs": [],
   "source": [
    "links_f = gran.produce_links(link_type = \"freq_link\", top_p=10)\n",
    "links_d = gran.produce_links(link_type = \"dist_link\", top_p=1)\n",
    "links_s = gran.produce_links(link_type = \"sem_link\", top_p=1)\n",
    "links = {**links_f, **links_d, **links_s}"
   ]
  },
  {
   "cell_type": "code",
   "execution_count": 9,
   "metadata": {},
   "outputs": [
    {
     "data": {
      "text/plain": [
       "{'as': 15}"
      ]
     },
     "execution_count": 9,
     "metadata": {},
     "output_type": "execute_result"
    }
   ],
   "source": [
    "{\"as\" : 10, \"as\" : 15}"
   ]
  },
  {
   "cell_type": "markdown",
   "metadata": {},
   "source": [
    "========================================"
   ]
  },
  {
   "cell_type": "code",
   "execution_count": 1,
   "metadata": {},
   "outputs": [],
   "source": [
    "from graph_analyser import GraphAnalyser\n",
    "from graph_analyser import GranGapEstimater\n",
    "from graph_analyser import GranLinker\n",
    "from graph_structure import KnowledgeGraph\n",
    "from graph_builder import GraphBuilder"
   ]
  },
  {
   "cell_type": "code",
   "execution_count": 2,
   "metadata": {},
   "outputs": [],
   "source": [
    "test_graph = KnowledgeGraph() "
   ]
  },
  {
   "cell_type": "code",
   "execution_count": 3,
   "metadata": {},
   "outputs": [],
   "source": [
    "test_graph.load(\"graph_structure_a0\")"
   ]
  },
  {
   "cell_type": "code",
   "execution_count": 4,
   "metadata": {},
   "outputs": [],
   "source": [
    "estimator = GranGapEstimater(test_graph)"
   ]
  },
  {
   "cell_type": "code",
   "execution_count": 5,
   "metadata": {},
   "outputs": [
    {
     "name": "stdout",
     "output_type": "stream",
     "text": [
      "lens: \t 20 6\n",
      "i: \t 0\n",
      "u: \t 26\n"
     ]
    },
    {
     "data": {
      "text/plain": [
       "0.0"
      ]
     },
     "execution_count": 5,
     "metadata": {},
     "output_type": "execute_result"
    }
   ],
   "source": [
    "estimator.estimate_gap_simple(\n",
    "    \"Ограничения на суммарный расход ресурса в конкретные моменты времени могут учитываться в том случае если его остатки не использованные в предыдущие моменты времени не остаются в распоряжении Центра Данные ограничения могут иметь вид\",\n",
    "    \"Произведя необходимую компоновку элементов и применив команду трассировки к модели печатной платы можно получить готовую разведенную плату рис рис\",\n",
    "    trace = True\n",
    ")"
   ]
  },
  {
   "cell_type": "markdown",
   "metadata": {},
   "source": [
    "# Графы тезауруса"
   ]
  },
  {
   "cell_type": "code",
   "execution_count": 9,
   "metadata": {},
   "outputs": [],
   "source": [
    "import stanza\n",
    "from tqdm import tqdm\n",
    "import pylab\n",
    "import pickle\n",
    "import yargy\n",
    "import numpy as np\n",
    "import networkx as nx"
   ]
  },
  {
   "cell_type": "code",
   "execution_count": 10,
   "metadata": {},
   "outputs": [],
   "source": [
    "from graph_builder import GraphBuilder\n",
    "from graph_structure import KnowledgeGraph\n",
    "from graph_analyser import GranLinker"
   ]
  },
  {
   "cell_type": "code",
   "execution_count": 2,
   "metadata": {},
   "outputs": [
    {
     "name": "stderr",
     "output_type": "stream",
     "text": [
      "2024-03-20 12:08:42 INFO: Checking for updates to resources.json in case models have been updated.  Note: this behavior can be turned off with download_method=None or download_method=DownloadMethod.REUSE_RESOURCES\n",
      "Widget Javascript not detected.  It may not be installed or enabled properly. Reconnecting the current kernel may help.\n"
     ]
    },
    {
     "data": {
      "application/vnd.jupyter.widget-view+json": {
       "model_id": "6fe557522b4342d8beae2901c5c72c18"
      }
     },
     "metadata": {},
     "output_type": "display_data"
    },
    {
     "name": "stderr",
     "output_type": "stream",
     "text": [
      "2024-03-20 12:08:43 INFO: Loading these models for language: ru (Russian):\n",
      "==================================\n",
      "| Processor | Package            |\n",
      "----------------------------------\n",
      "| tokenize  | syntagrus          |\n",
      "| lemma     | syntagrus_nocharlm |\n",
      "==================================\n",
      "\n",
      "2024-03-20 12:08:43 INFO: Using device: cpu\n",
      "2024-03-20 12:08:43 INFO: Loading: tokenize\n"
     ]
    },
    {
     "name": "stdout",
     "output_type": "stream",
     "text": [
      "\n"
     ]
    },
    {
     "name": "stderr",
     "output_type": "stream",
     "text": [
      "2024-03-20 12:08:44 INFO: Loading: lemma\n",
      "2024-03-20 12:08:44 INFO: Done loading processors!\n"
     ]
    }
   ],
   "source": [
    "parser = stanza.Pipeline(lang='ru', processors='tokenize,lemma')"
   ]
  },
  {
   "cell_type": "markdown",
   "metadata": {},
   "source": [
    "### Старые термины"
   ]
  },
  {
   "cell_type": "code",
   "execution_count": 7,
   "metadata": {},
   "outputs": [],
   "source": [
    "with open(\"transfer/build_graph/table.pkl\", \"rb\") as f:\n",
    "    table = pickle.load(f)"
   ]
  },
  {
   "cell_type": "code",
   "execution_count": 8,
   "metadata": {},
   "outputs": [],
   "source": [
    "terms = []\n",
    "for item in table:\n",
    "    doc = parser(item[\"term\"]).sentences[0]\n",
    "    term = ' '.join([elm.lemma for elm in doc.words])\n",
    "    terms.append(term)"
   ]
  },
  {
   "cell_type": "code",
   "execution_count": 12,
   "metadata": {},
   "outputs": [
    {
     "data": {
      "text/plain": [
       "274"
      ]
     },
     "execution_count": 12,
     "metadata": {},
     "output_type": "execute_result"
    }
   ],
   "source": [
    "print(len(terms))"
   ]
  },
  {
   "cell_type": "code",
   "execution_count": 13,
   "metadata": {},
   "outputs": [],
   "source": [
    "main_terms = terms[0:17]\n",
    "objects_of_control = terms[17:41]\n",
    "effects_and_signals = terms[41:88]\n",
    "types_of_control = terms[88:133]\n",
    "controlling_objects = terms[133:142]\n",
    "control_systems = terms[142:149]\n",
    "control_laws = terms[149:156]\n",
    "control_systems_elements = terms[156:170]\n",
    "control_systems_structures = terms[170:186]\n",
    "control_systems_states = terms[186:233]\n",
    "control_systems_properties = terms[233:247]\n",
    "base = terms[247:]"
   ]
  },
  {
   "cell_type": "markdown",
   "metadata": {},
   "source": [
    "### Новый граф"
   ]
  },
  {
   "cell_type": "code",
   "execution_count": 64,
   "metadata": {},
   "outputs": [],
   "source": [
    "with open(\"transfer/build_graph/table_2.pkl\", \"rb\") as f:\n",
    "    table = pickle.load(f)\n",
    "adjacency_table = np.load(\"transfer/build_graph/adjacency_table_2.npy\")\n",
    "terms = [item[\"term\"] for item in table]\n",
    "\n",
    "tokenizer = yargy.tokenizer.MorphTokenizer()\n",
    "terms_norm = [\" \".join([x.normalized for x in tokenizer(item)])\n",
    "    for item in terms]\n"
   ]
  },
  {
   "cell_type": "code",
   "execution_count": 65,
   "metadata": {},
   "outputs": [
    {
     "name": "stdout",
     "output_type": "stream",
     "text": [
      "1040\n"
     ]
    }
   ],
   "source": [
    "print(len(terms))"
   ]
  },
  {
   "cell_type": "code",
   "execution_count": 66,
   "metadata": {},
   "outputs": [],
   "source": [
    "G = nx.DiGraph()\n",
    "\n",
    "for i in range(adjacency_table.shape[0]):\n",
    "    for j in range(adjacency_table.shape[1]):\n",
    "        if adjacency_table[i, j] == 1:\n",
    "            G.add_edge(terms_norm[i], terms_norm[j])\n"
   ]
  },
  {
   "cell_type": "code",
   "execution_count": 67,
   "metadata": {},
   "outputs": [],
   "source": [
    "counts_old = np.array([\n",
    "    len(main_terms),\n",
    "    len(objects_of_control),\n",
    "    len(effects_and_signals),\n",
    "    len(types_of_control),\n",
    "    len(controlling_objects),\n",
    "    len(control_systems),\n",
    "    len(control_laws),\n",
    "    len(control_systems_elements),\n",
    "    len(control_systems_structures),\n",
    "    len(control_systems_states),\n",
    "    len(control_systems_properties),\n",
    "    len(base),\n",
    "])\n",
    "counts = np.zeros(12, dtype = int)"
   ]
  },
  {
   "cell_type": "code",
   "execution_count": 68,
   "metadata": {},
   "outputs": [],
   "source": [
    "for node in G.nodes:\n",
    "    G.nodes[node][\"locations\"] = [{'t' : 'base_text', 'p' : 0}] # это надо чтобы расстояние были небольшие\n",
    "for node in G.nodes:\n",
    "    G.nodes[node][\"color\"] = [\"grey\"]\n",
    "    \n",
    "    if node in main_terms:\n",
    "        G.nodes[node][\"color\"] = [\"red\"]\n",
    "        counts[0] += 1\n",
    "    if node in objects_of_control:\n",
    "        G.nodes[node][\"color\"] = [\"blue\"]\n",
    "        counts[1] += 1\n",
    "    if node in effects_and_signals:\n",
    "        G.nodes[node][\"color\"] = [\"yellow\"]\n",
    "        counts[2] += 1\n",
    "    if node in types_of_control:\n",
    "        G.nodes[node][\"color\"] = [\"orange\"]\n",
    "        counts[3] += 1\n",
    "    if node in controlling_objects:\n",
    "        G.nodes[node][\"color\"] = [\"magenta\"]\n",
    "        counts[4] += 1\n",
    "    if node in control_systems:\n",
    "        G.nodes[node][\"color\"] = [\"purple\"]\n",
    "        counts[5] += 1\n",
    "    if node in control_laws:\n",
    "        G.nodes[node][\"color\"] = [\"green\"]\n",
    "        counts[6] += 1\n",
    "    if node in control_systems_elements:\n",
    "        G.nodes[node][\"color\"] = [\"light blue\"]\n",
    "        counts[7] += 1\n",
    "    if node in control_systems_structures:\n",
    "        G.nodes[node][\"color\"] = [\"white\"]\n",
    "        counts[8] += 1\n",
    "    if node in control_systems_states:\n",
    "        G.nodes[node][\"color\"] = [\"dark green\"]\n",
    "        counts[9] += 1\n",
    "    if node in control_systems_properties:\n",
    "        G.nodes[node][\"color\"] = [\"pink\"]\n",
    "        counts[10] += 1\n",
    "    if node in base:\n",
    "        G.nodes[node][\"color\"] = [\"black\"]\n",
    "        counts[11] += 1\n",
    "        "
   ]
  },
  {
   "cell_type": "code",
   "execution_count": 69,
   "metadata": {},
   "outputs": [
    {
     "name": "stdout",
     "output_type": "stream",
     "text": [
      "32 / 274\t old graph nodes in new\n"
     ]
    }
   ],
   "source": [
    "print(f\"{sum(counts)} / {sum(counts_old)}\\t old graph nodes in new\")"
   ]
  },
  {
   "cell_type": "code",
   "execution_count": 70,
   "metadata": {},
   "outputs": [
    {
     "name": "stdout",
     "output_type": "stream",
     "text": [
      "4 / 17\t\tmain_terms\n",
      "0 / 24\t\tobjects_of_control\n",
      "0 / 47\t\teffects_and_signals\n",
      "8 / 45\t\ttypes_of_control\n",
      "1 / 9\t\tcontrolling_objects\n",
      "0 / 7\t\tcontrol_systems\n",
      "0 / 7\t\tcontrol_laws\n",
      "1 / 14\t\tcontrol_systems_elements\n",
      "0 / 16\t\tcontrol_systems_structures\n",
      "2 / 47\t\tcontrol_systems_states\n",
      "4 / 14\t\tcontrol_systems_properties\n",
      "12 / 27\t\tbase\n"
     ]
    }
   ],
   "source": [
    "print(f\"{counts[0]} / {counts_old[0]}\\t\\tmain_terms\")\n",
    "print(f\"{counts[1]} / {counts_old[1]}\\t\\tobjects_of_control\")\n",
    "print(f\"{counts[2]} / {counts_old[2]}\\t\\teffects_and_signals\")\n",
    "print(f\"{counts[3]} / {counts_old[3]}\\t\\ttypes_of_control\")\n",
    "print(f\"{counts[4]} / {counts_old[4]}\\t\\tcontrolling_objects\")\n",
    "print(f\"{counts[5]} / {counts_old[5]}\\t\\tcontrol_systems\")\n",
    "print(f\"{counts[6]} / {counts_old[6]}\\t\\tcontrol_laws\")\n",
    "print(f\"{counts[7]} / {counts_old[7]}\\t\\tcontrol_systems_elements\")\n",
    "print(f\"{counts[8]} / {counts_old[8]}\\t\\tcontrol_systems_structures\")\n",
    "print(f\"{counts[9]} / {counts_old[9]}\\t\\tcontrol_systems_states\")\n",
    "print(f\"{counts[10]} / {counts_old[10]}\\t\\tcontrol_systems_properties\")\n",
    "print(f\"{counts[11]} / {counts_old[11]}\\t\\tbase\")"
   ]
  },
  {
   "cell_type": "markdown",
   "metadata": {},
   "source": [
    "Смотрим на узлы"
   ]
  },
  {
   "cell_type": "code",
   "execution_count": 79,
   "metadata": {
    "scrolled": false
   },
   "outputs": [
    {
     "name": "stdout",
     "output_type": "stream",
     "text": [
      "управление\n",
      "система управление\n",
      "объект управление\n",
      "обратный связь\n"
     ]
    }
   ],
   "source": [
    "for node in G.nodes:    \n",
    "    if node in main_terms:\n",
    "        print(node)"
   ]
  },
  {
   "cell_type": "code",
   "execution_count": 80,
   "metadata": {},
   "outputs": [
    {
     "name": "stdout",
     "output_type": "stream",
     "text": [
      "эти узлы определяются через предыдущие\n",
      "автоматизация документооборот\n",
      "автоматизированный система управление предприятие\n",
      "автоматизированный система управление производство\n",
      "автоматизированный система управление технологический процесс\n",
      "автоматизированный система управление\n",
      "автоматизированный рабочий место\n",
      "автоматизированный управление\n",
      "автоматический регулятор\n",
      "автоматический управление\n",
      "адаптивный обход интегратор\n",
      "активный прогноз\n",
      "ассистивный технология\n",
      "база геоданные\n",
      "бесконечномерный система управление\n",
      "блочный подход\n",
      "бортовый система управление\n",
      "бэкстеппинг\n",
      "высокореактивный система управление\n",
      "гибридный система\n",
      "горизонт планирование\n",
      "динамический управляемый система\n",
      "допустимый множество\n",
      "живучесть\n",
      "задача быстродействие\n",
      "задача слежение\n",
      "задача управление\n",
      "идентификационный метод синтез\n",
      "идентификация\n",
      "измерительный технический средство управление\n",
      "интегральный регулятор\n",
      "интегрировать система управление\n",
      "интеллектуальный управление\n",
      "информационно - управлять система\n",
      "информационный управление\n",
      "исполнительный технический средство управление\n",
      "исполнительный механизм\n",
      "кибернетика\n",
      "компенсация возмущение\n",
      "конечномерной система управление\n",
      "критический информационный инфраструктура\n",
      "линейный обратный связь\n",
      "локальный управлять сеть\n",
      "мехатроника\n",
      "множество достижимость\n",
      "множество реализовать действие\n",
      "модуль сопряжение с объект\n",
      "мотивационный управление\n",
      "мультиагентный система\n",
      "наблюдатель возмущение\n",
      "наблюдатель люенбергер\n",
      "наблюдатель\n",
      "нелинейный обратный связь\n",
      "нелинейный демпфирование\n",
      "неманипулировать управление\n",
      "несогласованный возмущение\n",
      "нечёткий регулятор\n",
      "обратный задача управление\n",
      "обратный связь\n",
      "оконный функция\n",
      "операционный система\n",
      "оптимальный управление\n",
      "переходный процесс\n",
      "планирование потребность в материал\n",
      "планирование потребность в ресурс\n",
      "пневмоавтоматика\n",
      "подавление возмущение\n",
      "позиционный управление\n",
      "поисковый сигнал\n",
      "правильный механизм\n",
      "преобразовательный технический средство управление\n",
      "принцип обратный связь\n",
      "программа\n",
      "программный траектория\n",
      "программный управление\n",
      "проект\n",
      "прямой задача управление\n",
      "размещение полюс\n",
      "распределённый управление\n",
      "регулирование\n",
      "регулирование по возмущение\n",
      "регулировать орган\n",
      "регулятор\n",
      "робастный стабилизация\n",
      "робастный управление\n",
      "сетевой управление\n",
      "синтез система управление\n",
      "система автоматизация и управление\n",
      "система автоматизация технология производство\n",
      "система автоматический управление\n",
      "система управление\n",
      "система управление с распределённый параметр\n",
      "система управление с сосредоточить параметр\n",
      "системный программирование\n",
      "система с переменный структура\n",
      "скользящий режим\n",
      "слабосвязанный система\n",
      "слежение\n",
      "согласовать возмущение\n",
      "согласовать механизм\n",
      "стабильный информационный управление\n",
      "стохастический система управление\n",
      "стратегия наказание\n",
      "субъект управление\n",
      "теория автоматический управление\n",
      "теория активный система\n",
      "теория управление организационный система\n",
      "терминальный управление\n",
      "точка подача заказ\n",
      "удалённый доступ\n",
      "управление актив и фонд\n",
      "управление в экологический система\n",
      "управление информационный безопасность\n",
      "управление по возмущение\n",
      "управление положение\n",
      "управление проект\n",
      "управление цепочка поставка\n",
      "управляемость\n",
      "управлять вычислительный машина\n",
      "управлять вычислительный комплекс\n",
      "уравнение ляпунов\n",
      "уравнение риккати\n",
      "функция полезность\n",
      "целевой функция\n",
      "цепь поставка\n",
      "числовой программный управление\n",
      "шунтирование\n",
      "эргатический система\n",
      "эталонный модель\n",
      "эффективность управление\n",
      "язык управление задание\n",
      "apc\n",
      "e ама - система\n",
      "enterprise resource planning\n",
      "mpc\n",
      "rcpsp\n",
      "scm\n",
      "автоматизированный система управление предприятие\n",
      "автоматизированный система управление производство\n",
      "автоматизированный система управление технологический процесс\n",
      "автоматизированный система управление\n",
      "автоматизированный рабочий место\n",
      "бесконечномерный система управление\n",
      "бортовый система управление\n",
      "высокореактивный система управление\n",
      "гибридный система\n",
      "интегрировать система управление\n",
      "информационно - управлять система\n",
      "конечномерной система управление\n",
      "критический информационный инфраструктура\n",
      "модуль сопряжение с объект\n",
      "наблюдатель возмущение\n",
      "регулировать орган\n",
      "регулятор\n",
      "система автоматический управление\n",
      "система управление с распределённый параметр\n",
      "система управление с сосредоточить параметр\n",
      "стохастический система управление\n",
      "субъект управление\n",
      "точка подача заказ\n",
      "управление информационный безопасность\n",
      "управление по возмущение\n",
      "цепь поставка\n",
      "эргатический система\n",
      "эталонный модель\n",
      "эффективность управление\n",
      "apc\n",
      "адаптивный обход интегратор\n",
      "блочный подход\n",
      "идентификационный метод синтез\n",
      "интегральный регулятор\n",
      "исполнительный технический средство управление\n",
      "исполнительный механизм\n",
      "нелинейный демпфирование\n",
      "обратный связь\n",
      "переходный процесс\n",
      "позиционный управление\n",
      "поисковый сигнал\n",
      "регулирование\n",
      "регулирование по возмущение\n",
      "регулировать орган\n",
      "сетевой управление\n",
      "система управление\n",
      "система с переменный структура\n",
      "управление по возмущение\n",
      "шунтирование\n",
      "эргатический система\n",
      "эталонный модель\n",
      "mpc\n",
      "блочный подход\n",
      "большой коэффициент усиление\n",
      "бэкстеппинг\n",
      "динамический обратный связь\n",
      "идентификационный метод синтез\n",
      "интегральный регулятор\n",
      "искусственный нейронный сеть\n",
      "линейный обратный связь\n",
      "линейно - квадратичный регулятор\n",
      "модальный управление\n",
      "нелинейный обратный связь\n",
      "обратный связь\n",
      "принцип обратный связь\n",
      "рекуррентный нейронный сеть\n",
      "статический обратный связь\n",
      "управление по возмущение\n"
     ]
    }
   ],
   "source": [
    "def_from_main_terms = []\n",
    "for node in G.nodes:    \n",
    "    if node in main_terms:\n",
    "        for n_node in G.predecessors(node):\n",
    "            print(n_node)\n",
    "            def_from_main_terms.append(n_node)"
   ]
  },
  {
   "cell_type": "markdown",
   "metadata": {},
   "source": [
    "==============================================="
   ]
  },
  {
   "cell_type": "code",
   "execution_count": 75,
   "metadata": {},
   "outputs": [
    {
     "name": "stdout",
     "output_type": "stream",
     "text": [
      "автоматизированный управление\n",
      "автоматический управление\n",
      "стабилизация\n",
      "оптимальный управление\n",
      "комбинированный управление\n",
      "программный управление\n",
      "регулирование\n",
      "терминальный управление\n"
     ]
    }
   ],
   "source": [
    "for node in G.nodes:    \n",
    "    if node in types_of_control:\n",
    "        print(node)"
   ]
  },
  {
   "cell_type": "code",
   "execution_count": 81,
   "metadata": {
    "scrolled": true
   },
   "outputs": [
    {
     "name": "stdout",
     "output_type": "stream",
     "text": [
      "пневмоавтоматика\n",
      "теория автоматический управление\n",
      "эталонный модель\n",
      "гиростабилизированный платформа\n",
      "максиминный тестирование\n",
      "минимаксный стабилизация\n",
      "робастный стабилизация\n",
      "стабилизируемость\n",
      "задача быстродействие\n",
      "оптимальный управление\n",
      "поисковый сигнал\n",
      "прямой задача управление\n",
      "уравнение ляпунов\n",
      "уравнение риккати\n",
      "система автоматизация технология производство\n",
      "регулирование по возмущение\n",
      "регулирование по отклонение регулировать величина\n",
      "регулятор\n",
      "система автоматический регулирование\n"
     ]
    }
   ],
   "source": [
    "def_from_types_of_control = []\n",
    "for node in G.nodes:    \n",
    "    if node in types_of_control:\n",
    "        for n_node in G.predecessors(node):\n",
    "            print(n_node)\n",
    "            def_from_types_of_control.append(n_node)"
   ]
  },
  {
   "cell_type": "code",
   "execution_count": null,
   "metadata": {},
   "outputs": [],
   "source": []
  },
  {
   "cell_type": "markdown",
   "metadata": {},
   "source": [
    "==============================================="
   ]
  },
  {
   "cell_type": "code",
   "execution_count": 82,
   "metadata": {},
   "outputs": [
    {
     "name": "stdout",
     "output_type": "stream",
     "text": [
      "регулятор\n"
     ]
    }
   ],
   "source": [
    "for node in G.nodes:    \n",
    "    if node in controlling_objects:\n",
    "        print(node)"
   ]
  },
  {
   "cell_type": "code",
   "execution_count": 83,
   "metadata": {},
   "outputs": [
    {
     "name": "stdout",
     "output_type": "stream",
     "text": [
      "пневмоавтоматика\n",
      "теория автоматический управление\n",
      "эталонный модель\n",
      "гиростабилизированный платформа\n",
      "максиминный тестирование\n",
      "минимаксный стабилизация\n",
      "робастный стабилизация\n",
      "стабилизируемость\n",
      "задача быстродействие\n",
      "оптимальный управление\n",
      "поисковый сигнал\n",
      "прямой задача управление\n",
      "уравнение ляпунов\n",
      "уравнение риккати\n",
      "система автоматизация технология производство\n",
      "регулирование по возмущение\n",
      "регулирование по отклонение регулировать величина\n",
      "регулятор\n",
      "система автоматический регулирование\n"
     ]
    }
   ],
   "source": [
    "def_from_controlling_objects = []\n",
    "for node in G.nodes:    \n",
    "    if node in types_of_control:\n",
    "        for n_node in G.predecessors(node):\n",
    "            print(n_node)\n",
    "            def_from_controlling_objects.append(n_node)"
   ]
  },
  {
   "cell_type": "markdown",
   "metadata": {},
   "source": [
    "==============================================="
   ]
  },
  {
   "cell_type": "code",
   "execution_count": 84,
   "metadata": {},
   "outputs": [
    {
     "name": "stdout",
     "output_type": "stream",
     "text": [
      "датчик\n"
     ]
    }
   ],
   "source": [
    "for node in G.nodes:    \n",
    "    if node in control_systems_elements:\n",
    "        print(node)"
   ]
  },
  {
   "cell_type": "code",
   "execution_count": 85,
   "metadata": {},
   "outputs": [
    {
     "name": "stdout",
     "output_type": "stream",
     "text": [
      "бортовый система управление\n",
      "модуль сопряжение с объект\n",
      "фотоэлектрический датчик\n",
      "чувствительный элемент\n"
     ]
    }
   ],
   "source": [
    "def_from_control_systems_elements = []\n",
    "for node in G.nodes:    \n",
    "    if node in control_systems_elements:\n",
    "        for n_node in G.predecessors(node):\n",
    "            print(n_node)\n",
    "            def_from_control_systems_elements.append(n_node)"
   ]
  },
  {
   "cell_type": "markdown",
   "metadata": {},
   "source": [
    "==============================================="
   ]
  },
  {
   "cell_type": "code",
   "execution_count": 53,
   "metadata": {},
   "outputs": [
    {
     "name": "stdout",
     "output_type": "stream",
     "text": [
      "эффективность\n",
      "передаточный функция\n"
     ]
    }
   ],
   "source": [
    "for node in G.nodes:    \n",
    "    if node in control_systems_states:\n",
    "        print(node)"
   ]
  },
  {
   "cell_type": "code",
   "execution_count": 86,
   "metadata": {},
   "outputs": [
    {
     "name": "stdout",
     "output_type": "stream",
     "text": [
      "авторефлексия\n",
      "комплексный показатель надёжность\n",
      "оптимальный управление\n",
      "оптимизация\n",
      "эпидемиологический модель\n",
      "эффективность управление\n",
      "непараметрический идентификация\n",
      "перцептрон\n",
      "функция активация\n",
      "частотный неопределённость\n"
     ]
    }
   ],
   "source": [
    "def_from_control_systems_states = []\n",
    "for node in G.nodes:    \n",
    "    if node in control_systems_states:\n",
    "        for n_node in G.predecessors(node):\n",
    "            print(n_node)\n",
    "            def_from_control_systems_states.append(n_node)"
   ]
  },
  {
   "cell_type": "markdown",
   "metadata": {},
   "source": [
    "==============================================="
   ]
  },
  {
   "cell_type": "code",
   "execution_count": 89,
   "metadata": {},
   "outputs": [
    {
     "name": "stdout",
     "output_type": "stream",
     "text": [
      "абсолютный устойчивость\n",
      "управляемость\n",
      "живучесть\n",
      "идентифицируемость\n"
     ]
    }
   ],
   "source": [
    "for node in G.nodes:    \n",
    "    if node in control_systems_properties:\n",
    "        print(node)"
   ]
  },
  {
   "cell_type": "code",
   "execution_count": 90,
   "metadata": {},
   "outputs": [
    {
     "name": "stdout",
     "output_type": "stream",
     "text": [
      "анализ система управление\n",
      "блочный подход\n",
      "стабилизируемость\n",
      "управляемость\n",
      "функциональный избыточность\n"
     ]
    }
   ],
   "source": [
    "def_from_control_systems_properties = []\n",
    "for node in G.nodes:    \n",
    "    if node in control_systems_properties:\n",
    "        for n_node in G.predecessors(node):\n",
    "            print(n_node)\n",
    "            def_from_control_systems_properties.append(n_node)"
   ]
  },
  {
   "cell_type": "markdown",
   "metadata": {},
   "source": [
    "==============================================="
   ]
  },
  {
   "cell_type": "code",
   "execution_count": 55,
   "metadata": {},
   "outputs": [
    {
     "name": "stdout",
     "output_type": "stream",
     "text": [
      "объект\n",
      "процесс\n",
      "система\n",
      "величина\n",
      "внешний среда\n",
      "элемент\n",
      "алгоритм\n",
      "критерий\n",
      "измерение\n",
      "контроль\n",
      "подсистема\n",
      "идентификация\n"
     ]
    }
   ],
   "source": [
    "for node in G.nodes:    \n",
    "    if node in base:\n",
    "        print(node)"
   ]
  },
  {
   "cell_type": "markdown",
   "metadata": {},
   "source": [
    "==============================================="
   ]
  },
  {
   "cell_type": "code",
   "execution_count": 93,
   "metadata": {},
   "outputs": [
    {
     "data": {
      "text/plain": [
       "261"
      ]
     },
     "execution_count": 93,
     "metadata": {},
     "output_type": "execute_result"
    }
   ],
   "source": [
    "len(def_from_main_terms + def_from_control_systems_properties + def_from_control_systems_states +\\\n",
    "def_from_control_systems_elements + def_from_controlling_objects + def_from_types_of_control)"
   ]
  },
  {
   "cell_type": "code",
   "execution_count": 94,
   "metadata": {},
   "outputs": [
    {
     "data": {
      "text/plain": [
       "161"
      ]
     },
     "execution_count": 94,
     "metadata": {},
     "output_type": "execute_result"
    }
   ],
   "source": [
    "len(np.unique(def_from_main_terms + def_from_control_systems_properties + def_from_control_systems_states +\\\n",
    "def_from_control_systems_elements + def_from_controlling_objects + def_from_types_of_control))"
   ]
  },
  {
   "cell_type": "markdown",
   "metadata": {},
   "source": [
    "Сохранение получившейся структуры в формате графа знаний"
   ]
  },
  {
   "cell_type": "code",
   "execution_count": 39,
   "metadata": {},
   "outputs": [],
   "source": [
    "for edge in G.edges:\n",
    "    G.edges[edge][\"locations\"] = [{'t' : 'base_text', 'p' : 0} for _ in range(2)] # это надо чтобы веса ребер графа были очень\n",
    "for edge in G.edges:\n",
    "    G.edges[edge][\"label\"] = \"link\" # это надо чтобы веса ребер графа были очень\n",
    "# по идее этот вес должен быть гиперпараметром, если мы считаем расстояния по двум графам"
   ]
  },
  {
   "cell_type": "code",
   "execution_count": 40,
   "metadata": {},
   "outputs": [],
   "source": [
    "thes_graph = KnowledgeGraph()\n",
    "thes_graph.G = nx.DiGraph(G)\n",
    "thes_graph.pos = nx.kamada_kawai_layout(G)"
   ]
  },
  {
   "cell_type": "code",
   "execution_count": 41,
   "metadata": {},
   "outputs": [],
   "source": [
    "thes_graph.document_base = {'base_text' : {'len' : 1}}"
   ]
  },
  {
   "cell_type": "code",
   "execution_count": 42,
   "metadata": {},
   "outputs": [],
   "source": [
    "linker = GranLinker(thes_graph)"
   ]
  },
  {
   "cell_type": "code",
   "execution_count": 43,
   "metadata": {},
   "outputs": [
    {
     "name": "stdout",
     "output_type": "stream",
     "text": [
      "links _f:\t done\n"
     ]
    }
   ],
   "source": [
    "links_f = linker.produce_frequency_links(top_p = 100)\n",
    "print(\"links _f:\\t done\")\n",
    "# links_d = linker.produce_distance_links(top_p = 100) # это выбирает из всевозможных пар, а не только существующих связей\n",
    "# print(\"links _d:\\t done\")\n",
    "# links_s = linker.produce_semantic_links(top_p=100)\n",
    "# print(\"links _s:\\t done\")\n",
    "links = [links_f]#, links_d, links_s]\n",
    "linker.imprint_links(links)"
   ]
  },
  {
   "cell_type": "code",
   "execution_count": 44,
   "metadata": {},
   "outputs": [],
   "source": [
    "thes_graph.save(\"new_thesaurus_graph\")"
   ]
  },
  {
   "cell_type": "markdown",
   "metadata": {},
   "source": [
    "### ======================="
   ]
  },
  {
   "cell_type": "code",
   "execution_count": 63,
   "metadata": {},
   "outputs": [],
   "source": [
    "def load_testing_sample(fname, normalize = True):\n",
    "    with io.open(fname, \"r\", encoding='utf-8') as f:\n",
    "        text_ = f.read()\n",
    "    sentences = text_.split(\"\\n\")\n",
    "\n",
    "    sentences_without_breaks = []\n",
    "    true_segment_breaks = []\n",
    "    prev_sent = None\n",
    "    for sent in sentences:\n",
    "        if sent.strip() != \"\":\n",
    "            if sent != \"--- SEGMENT BRAKE ---\":\n",
    "                if normalize:\n",
    "                    sent_norm_text = \"\"\n",
    "                    try:\n",
    "                        doc = parser(sent).sentences[0]\n",
    "                        for elm in doc.words:\n",
    "                            sent_norm_text += elm.lemma + ' '\n",
    "                    except IndexError as err:# это встретилось пустое предложение\n",
    "                        raise err\n",
    "                else:\n",
    "                    sent_norm_text = sent\n",
    "                sentences_without_breaks.append(sent_norm_text)\n",
    "        \n",
    "                if prev_sent is not None:\n",
    "                    if prev_sent == \"--- SEGMENT BRAKE ---\":\n",
    "                        true_segment_breaks.append(True)\n",
    "                    else:\n",
    "                        true_segment_breaks.append(False)\n",
    "            prev_sent = sent\n",
    "    true_segment_breaks = np.array(true_segment_breaks)\n",
    "    return true_segment_breaks, sentences_without_breaks"
   ]
  },
  {
   "cell_type": "code",
   "execution_count": 70,
   "metadata": {},
   "outputs": [
    {
     "name": "stderr",
     "output_type": "stream",
     "text": [
      "2024-03-10 21:42:05 INFO: Checking for updates to resources.json in case models have been updated.  Note: this behavior can be turned off with download_method=None or download_method=DownloadMethod.REUSE_RESOURCES\n"
     ]
    },
    {
     "data": {
      "application/vnd.jupyter.widget-view+json": {
       "model_id": "988012f38c46478785ab3cdebf1e3642",
       "version_major": 2,
       "version_minor": 0
      },
      "text/plain": [
       "Downloading https://raw.githubusercontent.com/stanfordnlp/stanza-resources/main/resources_1.6.0.json:   0%|   …"
      ]
     },
     "metadata": {},
     "output_type": "display_data"
    },
    {
     "name": "stderr",
     "output_type": "stream",
     "text": [
      "2024-03-10 21:42:05 INFO: Loading these models for language: ru (Russian):\n",
      "==================================\n",
      "| Processor | Package            |\n",
      "----------------------------------\n",
      "| tokenize  | syntagrus          |\n",
      "| lemma     | syntagrus_nocharlm |\n",
      "==================================\n",
      "\n",
      "2024-03-10 21:42:05 INFO: Using device: cuda\n",
      "2024-03-10 21:42:05 INFO: Loading: tokenize\n",
      "2024-03-10 21:42:07 INFO: Loading: lemma\n",
      "2024-03-10 21:42:07 INFO: Done loading processors!\n"
     ]
    }
   ],
   "source": [
    "parser = stanza.Pipeline(lang='ru', processors='tokenize,lemma')"
   ]
  },
  {
   "cell_type": "code",
   "execution_count": 4,
   "metadata": {},
   "outputs": [],
   "source": [
    "import os\n",
    "import io\n",
    "import pickle\n",
    "from tqdm import tqdm\n",
    "import yargy\n",
    "import stanza\n",
    "from yargy.pipelines import morph_pipeline"
   ]
  },
  {
   "cell_type": "code",
   "execution_count": 5,
   "metadata": {},
   "outputs": [
    {
     "ename": "NameError",
     "evalue": "name 'np' is not defined",
     "output_type": "error",
     "traceback": [
      "\u001b[1;31m---------------------------------------------------------------------------\u001b[0m",
      "\u001b[1;31mNameError\u001b[0m                                 Traceback (most recent call last)",
      "Cell \u001b[1;32mIn[5], line 3\u001b[0m\n\u001b[0;32m      1\u001b[0m \u001b[38;5;28;01mwith\u001b[39;00m \u001b[38;5;28mopen\u001b[39m(\u001b[38;5;124m\"\u001b[39m\u001b[38;5;124mnew_g_table.pkl\u001b[39m\u001b[38;5;124m\"\u001b[39m, \u001b[38;5;124m\"\u001b[39m\u001b[38;5;124mrb\u001b[39m\u001b[38;5;124m\"\u001b[39m) \u001b[38;5;28;01mas\u001b[39;00m f:\n\u001b[0;32m      2\u001b[0m     table \u001b[38;5;241m=\u001b[39m pickle\u001b[38;5;241m.\u001b[39mload(f)\n\u001b[1;32m----> 3\u001b[0m adjacency_table \u001b[38;5;241m=\u001b[39m \u001b[43mnp\u001b[49m\u001b[38;5;241m.\u001b[39mload(\u001b[38;5;124m\"\u001b[39m\u001b[38;5;124mnew_g_adj.npy\u001b[39m\u001b[38;5;124m\"\u001b[39m)\n\u001b[0;32m      4\u001b[0m terms \u001b[38;5;241m=\u001b[39m [item[\u001b[38;5;124m\"\u001b[39m\u001b[38;5;124mterm\u001b[39m\u001b[38;5;124m\"\u001b[39m]\u001b[38;5;241m.\u001b[39mstrip() \u001b[38;5;28;01mfor\u001b[39;00m item \u001b[38;5;129;01min\u001b[39;00m table]\n\u001b[0;32m      6\u001b[0m tokenizer \u001b[38;5;241m=\u001b[39m yargy\u001b[38;5;241m.\u001b[39mtokenizer\u001b[38;5;241m.\u001b[39mMorphTokenizer()\n",
      "\u001b[1;31mNameError\u001b[0m: name 'np' is not defined"
     ]
    }
   ],
   "source": [
    "with open(\"new_g_table.pkl\", \"rb\") as f:\n",
    "    table = pickle.load(f)\n",
    "adjacency_table = np.load(\"new_g_adj.npy\")\n",
    "terms = [item[\"term\"].strip() for item in table]\n",
    "\n",
    "tokenizer = yargy.tokenizer.MorphTokenizer()\n",
    "terms_norm = [\" \".join([x.normalized for x in tokenizer(item)])\n",
    "            for item in terms]\n",
    "term_to_idx = {term: i for i, term in enumerate(terms_norm)}\n",
    "terms_parser = yargy.Parser(morph_pipeline(terms_norm))"
   ]
  },
  {
   "cell_type": "code",
   "execution_count": 82,
   "metadata": {},
   "outputs": [
    {
     "name": "stderr",
     "output_type": "stream",
     "text": [
      "100%|██████████████████████████████████████████████████████████████████████████████████| 64/64 [01:24<00:00,  1.32s/it]\n"
     ]
    }
   ],
   "source": [
    "texts_directory = \"segmentation_dataset\"\n",
    "\n",
    "all_true_breaks = []\n",
    "all_sentences_without_breaks = []\n",
    "for fname in tqdm(os.listdir(texts_directory)):\n",
    "    path = texts_directory + \"/\" + fname\n",
    "    true_breaks, sentences_without_breaks = load_testing_sample(path, normalize = True)\n",
    "    all_true_breaks.append(true_breaks)\n",
    "    all_sentences_without_breaks.append(sentences_without_breaks)"
   ]
  },
  {
   "cell_type": "code",
   "execution_count": 83,
   "metadata": {},
   "outputs": [],
   "source": [
    "text = ''.join(all_sentences_without_breaks[0])"
   ]
  },
  {
   "cell_type": "code",
   "execution_count": 84,
   "metadata": {},
   "outputs": [
    {
     "name": "stdout",
     "output_type": "stream",
     "text": [
      "управление\n",
      "безопасность\n",
      "безопасность\n",
      "система\n",
      "программный управление\n",
      "управление\n",
      "оптимальный управление\n",
      "система\n",
      "система\n",
      "объект\n",
      "безопасность\n",
      "процесс\n",
      "алгоритм\n",
      "процесс\n",
      "система\n",
      "система\n",
      "система\n",
      "система\n",
      "система\n",
      "управление\n",
      "управление\n",
      "управление\n",
      "система\n",
      "управление\n",
      "система\n",
      "безопасность\n",
      "управление\n",
      "элемент\n",
      "элемент\n",
      "элемент\n",
      "процесс\n",
      "элемент\n",
      "критерий\n",
      "система\n",
      "система\n",
      "объект\n",
      "объект\n",
      "объект\n",
      "объект управление\n",
      "элемент\n",
      "эффективность\n",
      "система\n",
      "объект\n",
      "выход\n",
      "система\n",
      "процесс\n",
      "элемент\n",
      "элемент\n",
      "элемент\n",
      "алгоритм\n",
      "алгоритм\n",
      "эффективность\n",
      "величина\n",
      "система\n",
      "система\n",
      "управление\n",
      "объект\n",
      "объект\n",
      "система\n"
     ]
    }
   ],
   "source": [
    "for m in terms_parser.findall(text):\n",
    "    tokens_norm = [x.normalized for x in m.tokens]\n",
    "    term = \" \".join(tokens_norm)\n",
    "    print(term)"
   ]
  },
  {
   "cell_type": "code",
   "execution_count": 81,
   "metadata": {},
   "outputs": [
    {
     "name": "stdout",
     "output_type": "stream",
     "text": [
      "управление\n",
      "безопасность\n",
      "безопасность\n",
      "система\n",
      "программный управление\n",
      "управление\n",
      "система\n",
      "система\n",
      "объект\n",
      "безопасность\n",
      "алгоритм\n",
      "процесс\n",
      "система\n",
      "система\n",
      "система\n",
      "управление\n",
      "управление\n",
      "управление\n",
      "система\n",
      "система\n",
      "безопасность\n",
      "управление\n",
      "элемент\n",
      "элемент\n",
      "элемент\n",
      "процесс\n",
      "элемент\n",
      "критерий\n",
      "система\n",
      "система\n",
      "объект\n",
      "объект\n",
      "объект\n",
      "объект\n",
      "элемент\n",
      "эффективность\n",
      "система\n",
      "объект\n",
      "выход\n",
      "система\n",
      "процесс\n",
      "элемент\n",
      "элемент\n",
      "элемент\n",
      "алгоритм\n",
      "алгоритм\n",
      "эффективность\n",
      "система\n",
      "система\n",
      "управление\n",
      "объект\n",
      "объект\n",
      "система\n"
     ]
    }
   ],
   "source": [
    "for m in terms_parser.findall(text):\n",
    "    tokens_norm = [x.normalized for x in m.tokens]\n",
    "    term = \" \".join(tokens_norm)\n",
    "    print(term)"
   ]
  },
  {
   "cell_type": "code",
   "execution_count": null,
   "metadata": {},
   "outputs": [],
   "source": []
  },
  {
   "cell_type": "code",
   "execution_count": null,
   "metadata": {},
   "outputs": [],
   "source": []
  },
  {
   "cell_type": "code",
   "execution_count": null,
   "metadata": {},
   "outputs": [],
   "source": []
  },
  {
   "cell_type": "code",
   "execution_count": null,
   "metadata": {},
   "outputs": [],
   "source": []
  }
 ],
 "metadata": {
  "kernelspec": {
   "display_name": "Python 3 (ipykernel)",
   "language": "python",
   "name": "python3"
  },
  "language_info": {
   "codemirror_mode": {
    "name": "ipython",
    "version": 3
   },
   "file_extension": ".py",
   "mimetype": "text/x-python",
   "name": "python",
   "nbconvert_exporter": "python",
   "pygments_lexer": "ipython3",
   "version": "3.10.12"
  }
 },
 "nbformat": 4,
 "nbformat_minor": 4
}
