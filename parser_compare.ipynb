{
 "cells": [
  {
   "cell_type": "code",
   "execution_count": 1,
   "id": "dec9f354",
   "metadata": {},
   "outputs": [],
   "source": [
    "from tqdm import tqdm\n",
    "import networkx as nx\n",
    "from copy import deepcopy as cp\n",
    "import io\n",
    "import os"
   ]
  },
  {
   "cell_type": "code",
   "execution_count": null,
   "id": "927698af",
   "metadata": {},
   "outputs": [],
   "source": []
  },
  {
   "cell_type": "code",
   "execution_count": null,
   "id": "b003f091",
   "metadata": {},
   "outputs": [],
   "source": []
  },
  {
   "cell_type": "code",
   "execution_count": 37,
   "id": "1bb936de",
   "metadata": {},
   "outputs": [
    {
     "name": "stdout",
     "output_type": "stream",
     "text": [
      "ADJ \t amod \t\t\t Разрабатываемая \t\t\t система\n",
      "NOUN \t nsubj \t\t\t система \t\t\t обеспечивает\n",
      "VERB \t root \t\t\t обеспечивает \t\t\t .\n",
      "ADP \t case \t\t\t к \t\t\t примеру\n",
      "NOUN \t obl \t\t\t примеру \t\t\t обеспечивает\n",
      "NOUN \t obj \t\t\t решение \t\t\t обеспечивает\n",
      "NOUN \t nmod \t\t\t задач \t\t\t решение\n",
      "NOUN \t nmod \t\t\t формирования \t\t\t задач\n",
      "NOUN \t nmod \t\t\t системы \t\t\t формирования\n",
      "ADJ \t amod \t\t\t образовательных \t\t\t услуг\n",
      "NOUN \t nmod \t\t\t услуг \t\t\t системы\n",
      "NOUN \t nmod \t\t\t региона \t\t\t системы\n",
      "NOUN \t nmod \t\t\t округа \t\t\t системы\n",
      "NOUN \t nmod \t\t\t района \t\t\t системы\n",
      "ADP \t appos \t\t\t т \t\t\t системы\n",
      "X \t fixed \t\t\t е \t\t\t т\n",
      "NOUN \t nmod \t\t\t задач \t\t\t решение\n",
      "VERB \t nmod \t\t\t требующих \t\t\t формирования\n",
      "ADP \t case \t\t\t при \t\t\t решении\n",
      "NOUN \t obl \t\t\t решении \t\t\t обеспечивает\n",
      "ADJ \t amod \t\t\t географической \t\t\t привязки\n",
      "NOUN \t nmod \t\t\t привязки \t\t\t решении\n",
      "ADP \t case \t\t\t к \t\t\t местности\n",
      "NOUN \t nmod \t\t\t местности \t\t\t привязки\n",
      "PUNCT \t punct \t\t\t . \t\t\t обеспечивает\n"
     ]
    }
   ],
   "source": [
    "from natasha import (\n",
    "    Segmenter,\n",
    "    MorphVocab,\n",
    "    \n",
    "    NewsEmbedding,\n",
    "    NewsMorphTagger,\n",
    "    NewsSyntaxParser,\n",
    "    NewsNERTagger,\n",
    "    \n",
    "    PER,\n",
    "    NamesExtractor,\n",
    "\n",
    "    Doc\n",
    ")\n",
    "\n",
    "segmenter = Segmenter()\n",
    "morph_vocab = MorphVocab()\n",
    "\n",
    "emb = NewsEmbedding()\n",
    "morph_tagger = NewsMorphTagger(emb)\n",
    "syntax_parser = NewsSyntaxParser(emb)\n",
    "ner_tagger = NewsNERTagger(emb)\n",
    "\n",
    "names_extractor = NamesExtractor(morph_vocab)\n",
    "\n",
    "text = 'Разрабатываемая система обеспечивает к примеру решение задач формирования системы образовательных услуг региона округа района т е задач требующих при решении географической привязки к местности.'\n",
    "doc = Doc(text)\n",
    "doc.segment(segmenter)\n",
    "\n",
    "doc.tag_morph(morph_tagger)\n",
    "doc.parse_syntax(syntax_parser)\n",
    "for token in doc.tokens:\n",
    "#     print(token)\n",
    "     print(f\"{token.pos} \\t {token.rel} \\t\\t\\t {token.text} \\t\\t\\t {doc.tokens[int(token.head_id[2:]) -1].text}\")\n"
   ]
  },
  {
   "cell_type": "code",
   "execution_count": null,
   "id": "a30352df",
   "metadata": {},
   "outputs": [],
   "source": []
  },
  {
   "cell_type": "code",
   "execution_count": null,
   "id": "cbc2cae9",
   "metadata": {},
   "outputs": [],
   "source": []
  },
  {
   "cell_type": "code",
   "execution_count": 28,
   "id": "b730adbb",
   "metadata": {},
   "outputs": [
    {
     "name": "stdout",
     "output_type": "stream",
     "text": [
      "VERB \t amod \t\t\t разрабатывать \t\t\t система \n",
      "NOUN \t nsubj \t\t\t система \t\t\t обеспечивает \n",
      "VERB \t ROOT \t\t\t обеспечивать \t\t\t обеспечивает \n",
      "ADP \t case \t\t\t к \t\t\t примеру \n",
      "NOUN \t obl \t\t\t пример \t\t\t обеспечивает \n",
      "NOUN \t obj \t\t\t решение \t\t\t обеспечивает \n",
      "NOUN \t nmod \t\t\t задача \t\t\t решение \n",
      "NOUN \t nmod \t\t\t формирование \t\t\t задач \n",
      "NOUN \t nmod \t\t\t система \t\t\t формирования \n",
      "ADJ \t amod \t\t\t образовательный \t\t\t услуг \n",
      "NOUN \t nmod \t\t\t услуга \t\t\t системы \n",
      "NOUN \t nmod \t\t\t регион \t\t\t системы \n",
      "NOUN \t nmod \t\t\t округ \t\t\t формирования \n",
      "NOUN \t nmod \t\t\t район \t\t\t округа \n",
      "PROPN \t appos \t\t\t т \t\t\t района \n",
      "NOUN \t fixed \t\t\t е \t\t\t т \n",
      "NOUN \t nmod \t\t\t задача \t\t\t формирования \n",
      "VERB \t nmod \t\t\t требовать \t\t\t задач \n",
      "ADP \t case \t\t\t при \t\t\t решении \n",
      "NOUN \t obl \t\t\t решение \t\t\t требующих \n",
      "ADJ \t amod \t\t\t географический \t\t\t привязки \n",
      "NOUN \t nmod \t\t\t привязка \t\t\t решении \n",
      "ADP \t case \t\t\t к \t\t\t местности \n",
      "NOUN \t nmod \t\t\t местность \t\t\t привязки \n",
      "PUNCT \t punct \t\t\t . \t\t\t обеспечивает \n"
     ]
    }
   ],
   "source": [
    "import spacy\n",
    "nlp = spacy.load(\"ru_core_news_sm\")\n",
    "import ru_core_news_sm\n",
    "nlp = ru_core_news_sm.load()\n",
    "doc = nlp('Разрабатываемая система обеспечивает к примеру решение задач формирования системы образовательных услуг региона округа района т е задач требующих при решении географической привязки к местности.')\n",
    "for token in doc:\n",
    "    print(f\"{token.pos_} \\t {token.dep_} \\t\\t\\t {token.lemma_} \\t\\t\\t {token.head} \")\n",
    "    "
   ]
  },
  {
   "cell_type": "code",
   "execution_count": null,
   "id": "9fb89a94",
   "metadata": {},
   "outputs": [],
   "source": []
  },
  {
   "cell_type": "code",
   "execution_count": 2,
   "id": "59ed9ba8",
   "metadata": {},
   "outputs": [
    {
     "name": "stderr",
     "output_type": "stream",
     "text": [
      "2024-08-12 13:39:16 INFO: Checking for updates to resources.json in case models have been updated.  Note: this behavior can be turned off with download_method=None or download_method=DownloadMethod.REUSE_RESOURCES\n",
      "Widget Javascript not detected.  It may not be installed or enabled properly. Reconnecting the current kernel may help.\n"
     ]
    },
    {
     "data": {
      "application/vnd.jupyter.widget-view+json": {
       "model_id": "8614af4ea6fb4e9390c2be3d8931e2eb"
      }
     },
     "metadata": {},
     "output_type": "display_data"
    },
    {
     "name": "stdout",
     "output_type": "stream",
     "text": [
      "\n"
     ]
    },
    {
     "name": "stderr",
     "output_type": "stream",
     "text": [
      "2024-08-12 13:39:20 INFO: Loading these models for language: ru (Russian):\n",
      "==================================\n",
      "| Processor | Package            |\n",
      "----------------------------------\n",
      "| tokenize  | syntagrus          |\n",
      "| pos       | syntagrus_charlm   |\n",
      "| lemma     | syntagrus_nocharlm |\n",
      "| depparse  | syntagrus_charlm   |\n",
      "| ner       | wikiner            |\n",
      "==================================\n",
      "\n",
      "2024-08-12 13:39:20 INFO: Using device: cpu\n",
      "2024-08-12 13:39:20 INFO: Loading: tokenize\n",
      "2024-08-12 13:39:21 INFO: Loading: pos\n",
      "2024-08-12 13:39:22 INFO: Loading: lemma\n",
      "2024-08-12 13:39:22 INFO: Loading: depparse\n",
      "2024-08-12 13:39:23 INFO: Loading: ner\n",
      "2024-08-12 13:39:29 INFO: Done loading processors!\n"
     ]
    }
   ],
   "source": [
    "import stanza\n",
    "from nltk.tokenize import sent_tokenize\n",
    "stanza_parser = stanza.Pipeline(lang='ru', processors='tokenize,pos,lemma,ner,depparse')"
   ]
  },
  {
   "cell_type": "code",
   "execution_count": 35,
   "id": "26297deb",
   "metadata": {},
   "outputs": [
    {
     "name": "stdout",
     "output_type": "stream",
     "text": [
      "VERB \t amod \t\t\t разрабатывать \t\t\t система\n",
      "NOUN \t nsubj \t\t\t система \t\t\t обеспечивает\n",
      "VERB \t root \t\t\t обеспечивать \t\t\t местности\n",
      "ADP \t case \t\t\t к \t\t\t примеру\n",
      "NOUN \t obl \t\t\t пример \t\t\t обеспечивает\n",
      "NOUN \t obj \t\t\t решение \t\t\t обеспечивает\n",
      "NOUN \t nmod \t\t\t задача \t\t\t решение\n",
      "NOUN \t nmod \t\t\t формирование \t\t\t задач\n",
      "NOUN \t nmod \t\t\t система \t\t\t формирования\n",
      "ADJ \t amod \t\t\t образовательный \t\t\t услуг\n",
      "NOUN \t nmod \t\t\t услуга \t\t\t системы\n",
      "NOUN \t nmod \t\t\t регион \t\t\t услуг\n",
      "NOUN \t nmod \t\t\t округ \t\t\t региона\n",
      "NOUN \t nmod \t\t\t район \t\t\t округа\n",
      "NOUN \t nmod \t\t\t тонна \t\t\t района\n",
      "CCONJ \t case \t\t\t е \t\t\t задач\n",
      "NOUN \t nmod \t\t\t задача \t\t\t т\n",
      "VERB \t acl \t\t\t требовать \t\t\t т\n",
      "ADP \t case \t\t\t при \t\t\t решении\n",
      "NOUN \t obl \t\t\t решение \t\t\t требующих\n",
      "ADJ \t amod \t\t\t географический \t\t\t привязки\n",
      "NOUN \t nmod \t\t\t привязка \t\t\t решении\n",
      "ADP \t case \t\t\t к \t\t\t местности\n",
      "NOUN \t nmod \t\t\t местность \t\t\t привязки\n"
     ]
    }
   ],
   "source": [
    "doc = stanza_parser('\\\n",
    "    Разрабатываемая система обеспечивает к примеру решение задач формирования системы образовательных услуг региона округа района т е задач требующих при решении географической привязки к местности')\n",
    "for token in doc.sentences[0].words:\n",
    "    #print(token)\n",
    "    print(f'{token.upos} \\t {token.deprel} \\t\\t\\t {token.lemma} \\t\\t\\t {doc.sentences[0].words[int(token.head) - 1].text}')\n",
    "    \n",
    "    "
   ]
  },
  {
   "cell_type": "code",
   "execution_count": null,
   "id": "2fdbcba2",
   "metadata": {},
   "outputs": [],
   "source": []
  },
  {
   "cell_type": "code",
   "execution_count": null,
   "id": "3082cdd7",
   "metadata": {},
   "outputs": [],
   "source": []
  }
 ],
 "metadata": {
  "kernelspec": {
   "display_name": "Python 3 (ipykernel)",
   "language": "python",
   "name": "python3"
  },
  "language_info": {
   "codemirror_mode": {
    "name": "ipython",
    "version": 3
   },
   "file_extension": ".py",
   "mimetype": "text/x-python",
   "name": "python",
   "nbconvert_exporter": "python",
   "pygments_lexer": "ipython3",
   "version": "3.10.12"
  }
 },
 "nbformat": 4,
 "nbformat_minor": 5
}
